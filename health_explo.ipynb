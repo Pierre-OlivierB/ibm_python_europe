{
 "cells": [
  {
   "cell_type": "markdown",
   "metadata": {},
   "source": [
    "## I) Visualisation "
   ]
  },
  {
   "cell_type": "markdown",
   "metadata": {},
   "source": [
    "### Santé"
   ]
  },
  {
   "cell_type": "code",
   "execution_count": 1,
   "metadata": {},
   "outputs": [],
   "source": [
    "import pandas as pd"
   ]
  },
  {
   "cell_type": "code",
   "execution_count": 2,
   "metadata": {},
   "outputs": [],
   "source": [
    "health = pd.read_csv('depensesSanté.csv')"
   ]
  },
  {
   "cell_type": "code",
   "execution_count": 3,
   "metadata": {},
   "outputs": [
    {
     "name": "stdout",
     "output_type": "stream",
     "text": [
      "<class 'pandas.core.frame.DataFrame'>\n",
      "RangeIndex: 9750 entries, 0 to 9749\n",
      "Data columns (total 5 columns):\n",
      " #   Column   Non-Null Count  Dtype  \n",
      "---  ------   --------------  -----  \n",
      " 0   Annee    9750 non-null   int64  \n",
      " 1   Pays     9750 non-null   object \n",
      " 2   Type     9750 non-null   object \n",
      " 3   Unite    9750 non-null   object \n",
      " 4   Montant  9050 non-null   float64\n",
      "dtypes: float64(1), int64(1), object(3)\n",
      "memory usage: 381.0+ KB\n"
     ]
    }
   ],
   "source": [
    "health.info()"
   ]
  },
  {
   "cell_type": "code",
   "execution_count": 4,
   "metadata": {},
   "outputs": [
    {
     "data": {
      "text/html": [
       "<div>\n",
       "<style scoped>\n",
       "    .dataframe tbody tr th:only-of-type {\n",
       "        vertical-align: middle;\n",
       "    }\n",
       "\n",
       "    .dataframe tbody tr th {\n",
       "        vertical-align: top;\n",
       "    }\n",
       "\n",
       "    .dataframe thead th {\n",
       "        text-align: right;\n",
       "    }\n",
       "</style>\n",
       "<table border=\"1\" class=\"dataframe\">\n",
       "  <thead>\n",
       "    <tr style=\"text-align: right;\">\n",
       "      <th></th>\n",
       "      <th>Annee</th>\n",
       "      <th>Pays</th>\n",
       "      <th>Type</th>\n",
       "      <th>Unite</th>\n",
       "      <th>Montant</th>\n",
       "    </tr>\n",
       "  </thead>\n",
       "  <tbody>\n",
       "    <tr>\n",
       "      <th>0</th>\n",
       "      <td>2007</td>\n",
       "      <td>Union europ�enne (composition actuelle)</td>\n",
       "      <td>Total des d�penses</td>\n",
       "      <td>Millions d'euros</td>\n",
       "      <td>NaN</td>\n",
       "    </tr>\n",
       "    <tr>\n",
       "      <th>1</th>\n",
       "      <td>2007</td>\n",
       "      <td>Union europ�enne (composition actuelle)</td>\n",
       "      <td>Total des d�penses</td>\n",
       "      <td>Millions d'euros (aux prix constants de 2010)</td>\n",
       "      <td>NaN</td>\n",
       "    </tr>\n",
       "    <tr>\n",
       "      <th>2</th>\n",
       "      <td>2007</td>\n",
       "      <td>Union europ�enne (composition actuelle)</td>\n",
       "      <td>Total des d�penses</td>\n",
       "      <td>Euro par habitant</td>\n",
       "      <td>NaN</td>\n",
       "    </tr>\n",
       "    <tr>\n",
       "      <th>3</th>\n",
       "      <td>2007</td>\n",
       "      <td>Union europ�enne (composition actuelle)</td>\n",
       "      <td>Total des d�penses</td>\n",
       "      <td>Euro par habitant (aux prix constants de 2010)</td>\n",
       "      <td>NaN</td>\n",
       "    </tr>\n",
       "    <tr>\n",
       "      <th>4</th>\n",
       "      <td>2007</td>\n",
       "      <td>Union europ�enne (composition actuelle)</td>\n",
       "      <td>Total des d�penses</td>\n",
       "      <td>Millions d'unit�s de monnaie nationale</td>\n",
       "      <td>NaN</td>\n",
       "    </tr>\n",
       "  </tbody>\n",
       "</table>\n",
       "</div>"
      ],
      "text/plain": [
       "   Annee                                     Pays                Type  \\\n",
       "0   2007  Union europ�enne (composition actuelle)  Total des d�penses   \n",
       "1   2007  Union europ�enne (composition actuelle)  Total des d�penses   \n",
       "2   2007  Union europ�enne (composition actuelle)  Total des d�penses   \n",
       "3   2007  Union europ�enne (composition actuelle)  Total des d�penses   \n",
       "4   2007  Union europ�enne (composition actuelle)  Total des d�penses   \n",
       "\n",
       "                                            Unite  Montant  \n",
       "0                                Millions d'euros      NaN  \n",
       "1   Millions d'euros (aux prix constants de 2010)      NaN  \n",
       "2                               Euro par habitant      NaN  \n",
       "3  Euro par habitant (aux prix constants de 2010)      NaN  \n",
       "4          Millions d'unit�s de monnaie nationale      NaN  "
      ]
     },
     "execution_count": 4,
     "metadata": {},
     "output_type": "execute_result"
    }
   ],
   "source": [
    "health.head(5)"
   ]
  },
  {
   "cell_type": "code",
   "execution_count": 5,
   "metadata": {},
   "outputs": [
    {
     "data": {
      "text/html": [
       "<div>\n",
       "<style scoped>\n",
       "    .dataframe tbody tr th:only-of-type {\n",
       "        vertical-align: middle;\n",
       "    }\n",
       "\n",
       "    .dataframe tbody tr th {\n",
       "        vertical-align: top;\n",
       "    }\n",
       "\n",
       "    .dataframe thead th {\n",
       "        text-align: right;\n",
       "    }\n",
       "</style>\n",
       "<table border=\"1\" class=\"dataframe\">\n",
       "  <thead>\n",
       "    <tr style=\"text-align: right;\">\n",
       "      <th></th>\n",
       "      <th>Annee</th>\n",
       "      <th>Montant</th>\n",
       "    </tr>\n",
       "  </thead>\n",
       "  <tbody>\n",
       "    <tr>\n",
       "      <th>count</th>\n",
       "      <td>9750.000000</td>\n",
       "      <td>9.050000e+03</td>\n",
       "    </tr>\n",
       "    <tr>\n",
       "      <th>mean</th>\n",
       "      <td>2011.500000</td>\n",
       "      <td>1.344403e+05</td>\n",
       "    </tr>\n",
       "    <tr>\n",
       "      <th>std</th>\n",
       "      <td>2.872429</td>\n",
       "      <td>5.556285e+05</td>\n",
       "    </tr>\n",
       "    <tr>\n",
       "      <th>min</th>\n",
       "      <td>2007.000000</td>\n",
       "      <td>0.000000e+00</td>\n",
       "    </tr>\n",
       "    <tr>\n",
       "      <th>25%</th>\n",
       "      <td>2009.000000</td>\n",
       "      <td>2.684550e+02</td>\n",
       "    </tr>\n",
       "    <tr>\n",
       "      <th>50%</th>\n",
       "      <td>2011.500000</td>\n",
       "      <td>3.052935e+03</td>\n",
       "    </tr>\n",
       "    <tr>\n",
       "      <th>75%</th>\n",
       "      <td>2014.000000</td>\n",
       "      <td>2.083549e+04</td>\n",
       "    </tr>\n",
       "    <tr>\n",
       "      <th>max</th>\n",
       "      <td>2016.000000</td>\n",
       "      <td>6.792539e+06</td>\n",
       "    </tr>\n",
       "  </tbody>\n",
       "</table>\n",
       "</div>"
      ],
      "text/plain": [
       "             Annee       Montant\n",
       "count  9750.000000  9.050000e+03\n",
       "mean   2011.500000  1.344403e+05\n",
       "std       2.872429  5.556285e+05\n",
       "min    2007.000000  0.000000e+00\n",
       "25%    2009.000000  2.684550e+02\n",
       "50%    2011.500000  3.052935e+03\n",
       "75%    2014.000000  2.083549e+04\n",
       "max    2016.000000  6.792539e+06"
      ]
     },
     "execution_count": 5,
     "metadata": {},
     "output_type": "execute_result"
    }
   ],
   "source": [
    "health.describe()"
   ]
  },
  {
   "cell_type": "code",
   "execution_count": 6,
   "metadata": {},
   "outputs": [
    {
     "data": {
      "text/plain": [
       "Annee      9750\n",
       "Pays       9750\n",
       "Type       9750\n",
       "Unite      9750\n",
       "Montant    9050\n",
       "dtype: int64"
      ]
     },
     "execution_count": 6,
     "metadata": {},
     "output_type": "execute_result"
    }
   ],
   "source": [
    "health.count()"
   ]
  },
  {
   "cell_type": "code",
   "execution_count": 7,
   "metadata": {},
   "outputs": [
    {
     "data": {
      "text/plain": [
       "5"
      ]
     },
     "execution_count": 7,
     "metadata": {},
     "output_type": "execute_result"
    }
   ],
   "source": [
    "len(health.columns)"
   ]
  },
  {
   "cell_type": "code",
   "execution_count": 8,
   "metadata": {},
   "outputs": [
    {
     "data": {
      "text/plain": [
       "array(['Annee', 'Pays', 'Type', 'Unite', 'Montant'], dtype=object)"
      ]
     },
     "execution_count": 8,
     "metadata": {},
     "output_type": "execute_result"
    }
   ],
   "source": [
    "health.columns.values"
   ]
  },
  {
   "cell_type": "code",
   "execution_count": 9,
   "metadata": {},
   "outputs": [
    {
     "data": {
      "text/html": [
       "<div>\n",
       "<style scoped>\n",
       "    .dataframe tbody tr th:only-of-type {\n",
       "        vertical-align: middle;\n",
       "    }\n",
       "\n",
       "    .dataframe tbody tr th {\n",
       "        vertical-align: top;\n",
       "    }\n",
       "\n",
       "    .dataframe thead th {\n",
       "        text-align: right;\n",
       "    }\n",
       "</style>\n",
       "<table border=\"1\" class=\"dataframe\">\n",
       "  <thead>\n",
       "    <tr style=\"text-align: right;\">\n",
       "      <th></th>\n",
       "      <th>Annee</th>\n",
       "      <th>Pays</th>\n",
       "      <th>Type</th>\n",
       "      <th>Unite</th>\n",
       "      <th>Montant</th>\n",
       "    </tr>\n",
       "  </thead>\n",
       "  <tbody>\n",
       "    <tr>\n",
       "      <th>0</th>\n",
       "      <td>2007</td>\n",
       "      <td>Union europ�enne (composition actuelle)</td>\n",
       "      <td>Total des d�penses</td>\n",
       "      <td>Millions d'euros</td>\n",
       "      <td>NaN</td>\n",
       "    </tr>\n",
       "  </tbody>\n",
       "</table>\n",
       "</div>"
      ],
      "text/plain": [
       "   Annee                                     Pays                Type  \\\n",
       "0   2007  Union europ�enne (composition actuelle)  Total des d�penses   \n",
       "\n",
       "              Unite  Montant  \n",
       "0  Millions d'euros      NaN  "
      ]
     },
     "execution_count": 9,
     "metadata": {},
     "output_type": "execute_result"
    }
   ],
   "source": [
    "health.head(1)"
   ]
  },
  {
   "cell_type": "markdown",
   "metadata": {},
   "source": [
    "## ///TO DO :\n",
    "\n",
    "### Où dépense-t-on le plus pour les soins de santé par habitant.\n",
    "\n",
    "### Quel est le taux de change monétaire en 2007 pour la Bulgarie.\n",
    "\n",
    "tips : deux requêtes indépendantes, dont une avec 'divide'.\n",
    "\n",
    "## //END TODO"
   ]
  },
  {
   "cell_type": "markdown",
   "metadata": {},
   "source": [
    "### Où dépense-t-on le plus pour les soins de santé par habitant. En sone euro 19."
   ]
  },
  {
   "cell_type": "code",
   "execution_count": 10,
   "metadata": {},
   "outputs": [
    {
     "data": {
      "text/html": [
       "<div>\n",
       "<style scoped>\n",
       "    .dataframe tbody tr th:only-of-type {\n",
       "        vertical-align: middle;\n",
       "    }\n",
       "\n",
       "    .dataframe tbody tr th {\n",
       "        vertical-align: top;\n",
       "    }\n",
       "\n",
       "    .dataframe thead th {\n",
       "        text-align: right;\n",
       "    }\n",
       "</style>\n",
       "<table border=\"1\" class=\"dataframe\">\n",
       "  <thead>\n",
       "    <tr style=\"text-align: right;\">\n",
       "      <th></th>\n",
       "      <th>Annee</th>\n",
       "      <th>Pays</th>\n",
       "      <th>Type</th>\n",
       "      <th>Unite</th>\n",
       "      <th>Montant</th>\n",
       "    </tr>\n",
       "  </thead>\n",
       "  <tbody>\n",
       "    <tr>\n",
       "      <th>375</th>\n",
       "      <td>2007</td>\n",
       "      <td>France</td>\n",
       "      <td>Total des d�penses</td>\n",
       "      <td>Millions d'euros</td>\n",
       "      <td>589811.62</td>\n",
       "    </tr>\n",
       "    <tr>\n",
       "      <th>376</th>\n",
       "      <td>2007</td>\n",
       "      <td>France</td>\n",
       "      <td>Total des d�penses</td>\n",
       "      <td>Millions d'euros (aux prix constants de 2010)</td>\n",
       "      <td>606384.10</td>\n",
       "    </tr>\n",
       "    <tr>\n",
       "      <th>377</th>\n",
       "      <td>2007</td>\n",
       "      <td>France</td>\n",
       "      <td>Total des d�penses</td>\n",
       "      <td>Euro par habitant</td>\n",
       "      <td>9240.91</td>\n",
       "    </tr>\n",
       "    <tr>\n",
       "      <th>378</th>\n",
       "      <td>2007</td>\n",
       "      <td>France</td>\n",
       "      <td>Total des d�penses</td>\n",
       "      <td>Euro par habitant (aux prix constants de 2010)</td>\n",
       "      <td>9500.56</td>\n",
       "    </tr>\n",
       "    <tr>\n",
       "      <th>379</th>\n",
       "      <td>2007</td>\n",
       "      <td>France</td>\n",
       "      <td>Total des d�penses</td>\n",
       "      <td>Millions d'unit�s de monnaie nationale</td>\n",
       "      <td>589811.62</td>\n",
       "    </tr>\n",
       "    <tr>\n",
       "      <th>...</th>\n",
       "      <td>...</td>\n",
       "      <td>...</td>\n",
       "      <td>...</td>\n",
       "      <td>...</td>\n",
       "      <td>...</td>\n",
       "    </tr>\n",
       "    <tr>\n",
       "      <th>9170</th>\n",
       "      <td>2016</td>\n",
       "      <td>France</td>\n",
       "      <td>Maladie/Soins de sant�</td>\n",
       "      <td>Millions d'euros</td>\n",
       "      <td>204079.50</td>\n",
       "    </tr>\n",
       "    <tr>\n",
       "      <th>9171</th>\n",
       "      <td>2016</td>\n",
       "      <td>France</td>\n",
       "      <td>Maladie/Soins de sant�</td>\n",
       "      <td>Millions d'euros (aux prix constants de 2010)</td>\n",
       "      <td>196891.01</td>\n",
       "    </tr>\n",
       "    <tr>\n",
       "      <th>9172</th>\n",
       "      <td>2016</td>\n",
       "      <td>France</td>\n",
       "      <td>Maladie/Soins de sant�</td>\n",
       "      <td>Euro par habitant</td>\n",
       "      <td>3052.35</td>\n",
       "    </tr>\n",
       "    <tr>\n",
       "      <th>9173</th>\n",
       "      <td>2016</td>\n",
       "      <td>France</td>\n",
       "      <td>Maladie/Soins de sant�</td>\n",
       "      <td>Euro par habitant (aux prix constants de 2010)</td>\n",
       "      <td>2944.84</td>\n",
       "    </tr>\n",
       "    <tr>\n",
       "      <th>9174</th>\n",
       "      <td>2016</td>\n",
       "      <td>France</td>\n",
       "      <td>Maladie/Soins de sant�</td>\n",
       "      <td>Millions d'unit�s de monnaie nationale</td>\n",
       "      <td>204079.50</td>\n",
       "    </tr>\n",
       "  </tbody>\n",
       "</table>\n",
       "<p>250 rows × 5 columns</p>\n",
       "</div>"
      ],
      "text/plain": [
       "      Annee    Pays                    Type  \\\n",
       "375    2007  France      Total des d�penses   \n",
       "376    2007  France      Total des d�penses   \n",
       "377    2007  France      Total des d�penses   \n",
       "378    2007  France      Total des d�penses   \n",
       "379    2007  France      Total des d�penses   \n",
       "...     ...     ...                     ...   \n",
       "9170   2016  France  Maladie/Soins de sant�   \n",
       "9171   2016  France  Maladie/Soins de sant�   \n",
       "9172   2016  France  Maladie/Soins de sant�   \n",
       "9173   2016  France  Maladie/Soins de sant�   \n",
       "9174   2016  France  Maladie/Soins de sant�   \n",
       "\n",
       "                                               Unite    Montant  \n",
       "375                                 Millions d'euros  589811.62  \n",
       "376    Millions d'euros (aux prix constants de 2010)  606384.10  \n",
       "377                                Euro par habitant    9240.91  \n",
       "378   Euro par habitant (aux prix constants de 2010)    9500.56  \n",
       "379           Millions d'unit�s de monnaie nationale  589811.62  \n",
       "...                                              ...        ...  \n",
       "9170                                Millions d'euros  204079.50  \n",
       "9171   Millions d'euros (aux prix constants de 2010)  196891.01  \n",
       "9172                               Euro par habitant    3052.35  \n",
       "9173  Euro par habitant (aux prix constants de 2010)    2944.84  \n",
       "9174          Millions d'unit�s de monnaie nationale  204079.50  \n",
       "\n",
       "[250 rows x 5 columns]"
      ]
     },
     "execution_count": 10,
     "metadata": {},
     "output_type": "execute_result"
    }
   ],
   "source": [
    "health[health['Pays']=='France']"
   ]
  },
  {
   "cell_type": "code",
   "execution_count": 11,
   "metadata": {},
   "outputs": [
    {
     "data": {
      "text/html": [
       "<div>\n",
       "<style scoped>\n",
       "    .dataframe tbody tr th:only-of-type {\n",
       "        vertical-align: middle;\n",
       "    }\n",
       "\n",
       "    .dataframe tbody tr th {\n",
       "        vertical-align: top;\n",
       "    }\n",
       "\n",
       "    .dataframe thead th {\n",
       "        text-align: right;\n",
       "    }\n",
       "</style>\n",
       "<table border=\"1\" class=\"dataframe\">\n",
       "  <thead>\n",
       "    <tr style=\"text-align: right;\">\n",
       "      <th></th>\n",
       "      <th>Annee</th>\n",
       "      <th>Pays</th>\n",
       "      <th>Type</th>\n",
       "      <th>Unite</th>\n",
       "      <th>Montant</th>\n",
       "    </tr>\n",
       "  </thead>\n",
       "  <tbody>\n",
       "    <tr>\n",
       "      <th>375</th>\n",
       "      <td>2007</td>\n",
       "      <td>France</td>\n",
       "      <td>Total des d�penses</td>\n",
       "      <td>Millions d'euros</td>\n",
       "      <td>589811.62</td>\n",
       "    </tr>\n",
       "    <tr>\n",
       "      <th>376</th>\n",
       "      <td>2007</td>\n",
       "      <td>France</td>\n",
       "      <td>Total des d�penses</td>\n",
       "      <td>Millions d'euros (aux prix constants de 2010)</td>\n",
       "      <td>606384.10</td>\n",
       "    </tr>\n",
       "    <tr>\n",
       "      <th>377</th>\n",
       "      <td>2007</td>\n",
       "      <td>France</td>\n",
       "      <td>Total des d�penses</td>\n",
       "      <td>Euro par habitant</td>\n",
       "      <td>9240.91</td>\n",
       "    </tr>\n",
       "    <tr>\n",
       "      <th>378</th>\n",
       "      <td>2007</td>\n",
       "      <td>France</td>\n",
       "      <td>Total des d�penses</td>\n",
       "      <td>Euro par habitant (aux prix constants de 2010)</td>\n",
       "      <td>9500.56</td>\n",
       "    </tr>\n",
       "    <tr>\n",
       "      <th>379</th>\n",
       "      <td>2007</td>\n",
       "      <td>France</td>\n",
       "      <td>Total des d�penses</td>\n",
       "      <td>Millions d'unit�s de monnaie nationale</td>\n",
       "      <td>589811.62</td>\n",
       "    </tr>\n",
       "    <tr>\n",
       "      <th>380</th>\n",
       "      <td>2007</td>\n",
       "      <td>France</td>\n",
       "      <td>Prestations de protection sociale</td>\n",
       "      <td>Millions d'euros</td>\n",
       "      <td>551061.06</td>\n",
       "    </tr>\n",
       "    <tr>\n",
       "      <th>381</th>\n",
       "      <td>2007</td>\n",
       "      <td>France</td>\n",
       "      <td>Prestations de protection sociale</td>\n",
       "      <td>Millions d'euros (aux prix constants de 2010)</td>\n",
       "      <td>566544.73</td>\n",
       "    </tr>\n",
       "    <tr>\n",
       "      <th>382</th>\n",
       "      <td>2007</td>\n",
       "      <td>France</td>\n",
       "      <td>Prestations de protection sociale</td>\n",
       "      <td>Euro par habitant</td>\n",
       "      <td>8633.78</td>\n",
       "    </tr>\n",
       "    <tr>\n",
       "      <th>383</th>\n",
       "      <td>2007</td>\n",
       "      <td>France</td>\n",
       "      <td>Prestations de protection sociale</td>\n",
       "      <td>Euro par habitant (aux prix constants de 2010)</td>\n",
       "      <td>8876.38</td>\n",
       "    </tr>\n",
       "    <tr>\n",
       "      <th>384</th>\n",
       "      <td>2007</td>\n",
       "      <td>France</td>\n",
       "      <td>Prestations de protection sociale</td>\n",
       "      <td>Millions d'unit�s de monnaie nationale</td>\n",
       "      <td>551061.06</td>\n",
       "    </tr>\n",
       "    <tr>\n",
       "      <th>385</th>\n",
       "      <td>2007</td>\n",
       "      <td>France</td>\n",
       "      <td>D�penses de fonctionnement</td>\n",
       "      <td>Millions d'euros</td>\n",
       "      <td>25832.30</td>\n",
       "    </tr>\n",
       "    <tr>\n",
       "      <th>386</th>\n",
       "      <td>2007</td>\n",
       "      <td>France</td>\n",
       "      <td>D�penses de fonctionnement</td>\n",
       "      <td>Millions d'euros (aux prix constants de 2010)</td>\n",
       "      <td>26558.13</td>\n",
       "    </tr>\n",
       "    <tr>\n",
       "      <th>387</th>\n",
       "      <td>2007</td>\n",
       "      <td>France</td>\n",
       "      <td>D�penses de fonctionnement</td>\n",
       "      <td>Euro par habitant</td>\n",
       "      <td>404.73</td>\n",
       "    </tr>\n",
       "    <tr>\n",
       "      <th>388</th>\n",
       "      <td>2007</td>\n",
       "      <td>France</td>\n",
       "      <td>D�penses de fonctionnement</td>\n",
       "      <td>Euro par habitant (aux prix constants de 2010)</td>\n",
       "      <td>416.10</td>\n",
       "    </tr>\n",
       "    <tr>\n",
       "      <th>389</th>\n",
       "      <td>2007</td>\n",
       "      <td>France</td>\n",
       "      <td>D�penses de fonctionnement</td>\n",
       "      <td>Millions d'unit�s de monnaie nationale</td>\n",
       "      <td>25832.30</td>\n",
       "    </tr>\n",
       "    <tr>\n",
       "      <th>390</th>\n",
       "      <td>2007</td>\n",
       "      <td>France</td>\n",
       "      <td>Autres d�penses</td>\n",
       "      <td>Millions d'euros</td>\n",
       "      <td>12918.26</td>\n",
       "    </tr>\n",
       "    <tr>\n",
       "      <th>391</th>\n",
       "      <td>2007</td>\n",
       "      <td>France</td>\n",
       "      <td>Autres d�penses</td>\n",
       "      <td>Millions d'euros (aux prix constants de 2010)</td>\n",
       "      <td>13281.24</td>\n",
       "    </tr>\n",
       "    <tr>\n",
       "      <th>392</th>\n",
       "      <td>2007</td>\n",
       "      <td>France</td>\n",
       "      <td>Autres d�penses</td>\n",
       "      <td>Euro par habitant</td>\n",
       "      <td>202.40</td>\n",
       "    </tr>\n",
       "    <tr>\n",
       "      <th>393</th>\n",
       "      <td>2007</td>\n",
       "      <td>France</td>\n",
       "      <td>Autres d�penses</td>\n",
       "      <td>Euro par habitant (aux prix constants de 2010)</td>\n",
       "      <td>208.08</td>\n",
       "    </tr>\n",
       "    <tr>\n",
       "      <th>394</th>\n",
       "      <td>2007</td>\n",
       "      <td>France</td>\n",
       "      <td>Autres d�penses</td>\n",
       "      <td>Millions d'unit�s de monnaie nationale</td>\n",
       "      <td>12918.26</td>\n",
       "    </tr>\n",
       "    <tr>\n",
       "      <th>395</th>\n",
       "      <td>2007</td>\n",
       "      <td>France</td>\n",
       "      <td>Maladie/Soins de sant�</td>\n",
       "      <td>Millions d'euros</td>\n",
       "      <td>162650.79</td>\n",
       "    </tr>\n",
       "    <tr>\n",
       "      <th>396</th>\n",
       "      <td>2007</td>\n",
       "      <td>France</td>\n",
       "      <td>Maladie/Soins de sant�</td>\n",
       "      <td>Millions d'euros (aux prix constants de 2010)</td>\n",
       "      <td>167220.94</td>\n",
       "    </tr>\n",
       "    <tr>\n",
       "      <th>397</th>\n",
       "      <td>2007</td>\n",
       "      <td>France</td>\n",
       "      <td>Maladie/Soins de sant�</td>\n",
       "      <td>Euro par habitant</td>\n",
       "      <td>2548.34</td>\n",
       "    </tr>\n",
       "    <tr>\n",
       "      <th>398</th>\n",
       "      <td>2007</td>\n",
       "      <td>France</td>\n",
       "      <td>Maladie/Soins de sant�</td>\n",
       "      <td>Euro par habitant (aux prix constants de 2010)</td>\n",
       "      <td>2619.94</td>\n",
       "    </tr>\n",
       "    <tr>\n",
       "      <th>399</th>\n",
       "      <td>2007</td>\n",
       "      <td>France</td>\n",
       "      <td>Maladie/Soins de sant�</td>\n",
       "      <td>Millions d'unit�s de monnaie nationale</td>\n",
       "      <td>162650.79</td>\n",
       "    </tr>\n",
       "  </tbody>\n",
       "</table>\n",
       "</div>"
      ],
      "text/plain": [
       "     Annee    Pays                               Type  \\\n",
       "375   2007  France                 Total des d�penses   \n",
       "376   2007  France                 Total des d�penses   \n",
       "377   2007  France                 Total des d�penses   \n",
       "378   2007  France                 Total des d�penses   \n",
       "379   2007  France                 Total des d�penses   \n",
       "380   2007  France  Prestations de protection sociale   \n",
       "381   2007  France  Prestations de protection sociale   \n",
       "382   2007  France  Prestations de protection sociale   \n",
       "383   2007  France  Prestations de protection sociale   \n",
       "384   2007  France  Prestations de protection sociale   \n",
       "385   2007  France         D�penses de fonctionnement   \n",
       "386   2007  France         D�penses de fonctionnement   \n",
       "387   2007  France         D�penses de fonctionnement   \n",
       "388   2007  France         D�penses de fonctionnement   \n",
       "389   2007  France         D�penses de fonctionnement   \n",
       "390   2007  France                    Autres d�penses   \n",
       "391   2007  France                    Autres d�penses   \n",
       "392   2007  France                    Autres d�penses   \n",
       "393   2007  France                    Autres d�penses   \n",
       "394   2007  France                    Autres d�penses   \n",
       "395   2007  France             Maladie/Soins de sant�   \n",
       "396   2007  France             Maladie/Soins de sant�   \n",
       "397   2007  France             Maladie/Soins de sant�   \n",
       "398   2007  France             Maladie/Soins de sant�   \n",
       "399   2007  France             Maladie/Soins de sant�   \n",
       "\n",
       "                                              Unite    Montant  \n",
       "375                                Millions d'euros  589811.62  \n",
       "376   Millions d'euros (aux prix constants de 2010)  606384.10  \n",
       "377                               Euro par habitant    9240.91  \n",
       "378  Euro par habitant (aux prix constants de 2010)    9500.56  \n",
       "379          Millions d'unit�s de monnaie nationale  589811.62  \n",
       "380                                Millions d'euros  551061.06  \n",
       "381   Millions d'euros (aux prix constants de 2010)  566544.73  \n",
       "382                               Euro par habitant    8633.78  \n",
       "383  Euro par habitant (aux prix constants de 2010)    8876.38  \n",
       "384          Millions d'unit�s de monnaie nationale  551061.06  \n",
       "385                                Millions d'euros   25832.30  \n",
       "386   Millions d'euros (aux prix constants de 2010)   26558.13  \n",
       "387                               Euro par habitant     404.73  \n",
       "388  Euro par habitant (aux prix constants de 2010)     416.10  \n",
       "389          Millions d'unit�s de monnaie nationale   25832.30  \n",
       "390                                Millions d'euros   12918.26  \n",
       "391   Millions d'euros (aux prix constants de 2010)   13281.24  \n",
       "392                               Euro par habitant     202.40  \n",
       "393  Euro par habitant (aux prix constants de 2010)     208.08  \n",
       "394          Millions d'unit�s de monnaie nationale   12918.26  \n",
       "395                                Millions d'euros  162650.79  \n",
       "396   Millions d'euros (aux prix constants de 2010)  167220.94  \n",
       "397                               Euro par habitant    2548.34  \n",
       "398  Euro par habitant (aux prix constants de 2010)    2619.94  \n",
       "399          Millions d'unit�s de monnaie nationale  162650.79  "
      ]
     },
     "execution_count": 11,
     "metadata": {},
     "output_type": "execute_result"
    }
   ],
   "source": [
    "health[(health['Pays']=='France')&(health['Annee']==2007)]"
   ]
  },
  {
   "cell_type": "code",
   "execution_count": 12,
   "metadata": {},
   "outputs": [
    {
     "data": {
      "text/html": [
       "<div>\n",
       "<style scoped>\n",
       "    .dataframe tbody tr th:only-of-type {\n",
       "        vertical-align: middle;\n",
       "    }\n",
       "\n",
       "    .dataframe tbody tr th {\n",
       "        vertical-align: top;\n",
       "    }\n",
       "\n",
       "    .dataframe thead th {\n",
       "        text-align: right;\n",
       "    }\n",
       "</style>\n",
       "<table border=\"1\" class=\"dataframe\">\n",
       "  <thead>\n",
       "    <tr style=\"text-align: right;\">\n",
       "      <th></th>\n",
       "      <th>Annee</th>\n",
       "      <th>Pays</th>\n",
       "      <th>Type</th>\n",
       "      <th>Unite</th>\n",
       "      <th>Montant</th>\n",
       "    </tr>\n",
       "  </thead>\n",
       "  <tbody>\n",
       "    <tr>\n",
       "      <th>175</th>\n",
       "      <td>2007</td>\n",
       "      <td>Bulgarie</td>\n",
       "      <td>Total des d�penses</td>\n",
       "      <td>Millions d'euros</td>\n",
       "      <td>4353.09</td>\n",
       "    </tr>\n",
       "    <tr>\n",
       "      <th>176</th>\n",
       "      <td>2007</td>\n",
       "      <td>Bulgarie</td>\n",
       "      <td>Total des d�penses</td>\n",
       "      <td>Millions d'euros (aux prix constants de 2010)</td>\n",
       "      <td>4861.99</td>\n",
       "    </tr>\n",
       "    <tr>\n",
       "      <th>177</th>\n",
       "      <td>2007</td>\n",
       "      <td>Bulgarie</td>\n",
       "      <td>Total des d�penses</td>\n",
       "      <td>Euro par habitant</td>\n",
       "      <td>576.92</td>\n",
       "    </tr>\n",
       "    <tr>\n",
       "      <th>178</th>\n",
       "      <td>2007</td>\n",
       "      <td>Bulgarie</td>\n",
       "      <td>Total des d�penses</td>\n",
       "      <td>Euro par habitant (aux prix constants de 2010)</td>\n",
       "      <td>644.37</td>\n",
       "    </tr>\n",
       "    <tr>\n",
       "      <th>179</th>\n",
       "      <td>2007</td>\n",
       "      <td>Bulgarie</td>\n",
       "      <td>Total des d�penses</td>\n",
       "      <td>Millions d'unit�s de monnaie nationale</td>\n",
       "      <td>8513.77</td>\n",
       "    </tr>\n",
       "    <tr>\n",
       "      <th>180</th>\n",
       "      <td>2007</td>\n",
       "      <td>Bulgarie</td>\n",
       "      <td>Prestations de protection sociale</td>\n",
       "      <td>Millions d'euros</td>\n",
       "      <td>4209.10</td>\n",
       "    </tr>\n",
       "    <tr>\n",
       "      <th>181</th>\n",
       "      <td>2007</td>\n",
       "      <td>Bulgarie</td>\n",
       "      <td>Prestations de protection sociale</td>\n",
       "      <td>Millions d'euros (aux prix constants de 2010)</td>\n",
       "      <td>4701.18</td>\n",
       "    </tr>\n",
       "    <tr>\n",
       "      <th>182</th>\n",
       "      <td>2007</td>\n",
       "      <td>Bulgarie</td>\n",
       "      <td>Prestations de protection sociale</td>\n",
       "      <td>Euro par habitant</td>\n",
       "      <td>557.84</td>\n",
       "    </tr>\n",
       "    <tr>\n",
       "      <th>183</th>\n",
       "      <td>2007</td>\n",
       "      <td>Bulgarie</td>\n",
       "      <td>Prestations de protection sociale</td>\n",
       "      <td>Euro par habitant (aux prix constants de 2010)</td>\n",
       "      <td>623.06</td>\n",
       "    </tr>\n",
       "    <tr>\n",
       "      <th>184</th>\n",
       "      <td>2007</td>\n",
       "      <td>Bulgarie</td>\n",
       "      <td>Prestations de protection sociale</td>\n",
       "      <td>Millions d'unit�s de monnaie nationale</td>\n",
       "      <td>8232.16</td>\n",
       "    </tr>\n",
       "    <tr>\n",
       "      <th>185</th>\n",
       "      <td>2007</td>\n",
       "      <td>Bulgarie</td>\n",
       "      <td>D�penses de fonctionnement</td>\n",
       "      <td>Millions d'euros</td>\n",
       "      <td>108.59</td>\n",
       "    </tr>\n",
       "    <tr>\n",
       "      <th>186</th>\n",
       "      <td>2007</td>\n",
       "      <td>Bulgarie</td>\n",
       "      <td>D�penses de fonctionnement</td>\n",
       "      <td>Millions d'euros (aux prix constants de 2010)</td>\n",
       "      <td>121.29</td>\n",
       "    </tr>\n",
       "    <tr>\n",
       "      <th>187</th>\n",
       "      <td>2007</td>\n",
       "      <td>Bulgarie</td>\n",
       "      <td>D�penses de fonctionnement</td>\n",
       "      <td>Euro par habitant</td>\n",
       "      <td>14.39</td>\n",
       "    </tr>\n",
       "    <tr>\n",
       "      <th>188</th>\n",
       "      <td>2007</td>\n",
       "      <td>Bulgarie</td>\n",
       "      <td>D�penses de fonctionnement</td>\n",
       "      <td>Euro par habitant (aux prix constants de 2010)</td>\n",
       "      <td>16.07</td>\n",
       "    </tr>\n",
       "    <tr>\n",
       "      <th>189</th>\n",
       "      <td>2007</td>\n",
       "      <td>Bulgarie</td>\n",
       "      <td>D�penses de fonctionnement</td>\n",
       "      <td>Millions d'unit�s de monnaie nationale</td>\n",
       "      <td>212.39</td>\n",
       "    </tr>\n",
       "    <tr>\n",
       "      <th>190</th>\n",
       "      <td>2007</td>\n",
       "      <td>Bulgarie</td>\n",
       "      <td>Autres d�penses</td>\n",
       "      <td>Millions d'euros</td>\n",
       "      <td>35.39</td>\n",
       "    </tr>\n",
       "    <tr>\n",
       "      <th>191</th>\n",
       "      <td>2007</td>\n",
       "      <td>Bulgarie</td>\n",
       "      <td>Autres d�penses</td>\n",
       "      <td>Millions d'euros (aux prix constants de 2010)</td>\n",
       "      <td>39.53</td>\n",
       "    </tr>\n",
       "    <tr>\n",
       "      <th>192</th>\n",
       "      <td>2007</td>\n",
       "      <td>Bulgarie</td>\n",
       "      <td>Autres d�penses</td>\n",
       "      <td>Euro par habitant</td>\n",
       "      <td>4.69</td>\n",
       "    </tr>\n",
       "    <tr>\n",
       "      <th>193</th>\n",
       "      <td>2007</td>\n",
       "      <td>Bulgarie</td>\n",
       "      <td>Autres d�penses</td>\n",
       "      <td>Euro par habitant (aux prix constants de 2010)</td>\n",
       "      <td>5.24</td>\n",
       "    </tr>\n",
       "    <tr>\n",
       "      <th>194</th>\n",
       "      <td>2007</td>\n",
       "      <td>Bulgarie</td>\n",
       "      <td>Autres d�penses</td>\n",
       "      <td>Millions d'unit�s de monnaie nationale</td>\n",
       "      <td>69.22</td>\n",
       "    </tr>\n",
       "    <tr>\n",
       "      <th>195</th>\n",
       "      <td>2007</td>\n",
       "      <td>Bulgarie</td>\n",
       "      <td>Maladie/Soins de sant�</td>\n",
       "      <td>Millions d'euros</td>\n",
       "      <td>1139.13</td>\n",
       "    </tr>\n",
       "    <tr>\n",
       "      <th>196</th>\n",
       "      <td>2007</td>\n",
       "      <td>Bulgarie</td>\n",
       "      <td>Maladie/Soins de sant�</td>\n",
       "      <td>Millions d'euros (aux prix constants de 2010)</td>\n",
       "      <td>1272.31</td>\n",
       "    </tr>\n",
       "    <tr>\n",
       "      <th>197</th>\n",
       "      <td>2007</td>\n",
       "      <td>Bulgarie</td>\n",
       "      <td>Maladie/Soins de sant�</td>\n",
       "      <td>Euro par habitant</td>\n",
       "      <td>150.97</td>\n",
       "    </tr>\n",
       "    <tr>\n",
       "      <th>198</th>\n",
       "      <td>2007</td>\n",
       "      <td>Bulgarie</td>\n",
       "      <td>Maladie/Soins de sant�</td>\n",
       "      <td>Euro par habitant (aux prix constants de 2010)</td>\n",
       "      <td>168.62</td>\n",
       "    </tr>\n",
       "    <tr>\n",
       "      <th>199</th>\n",
       "      <td>2007</td>\n",
       "      <td>Bulgarie</td>\n",
       "      <td>Maladie/Soins de sant�</td>\n",
       "      <td>Millions d'unit�s de monnaie nationale</td>\n",
       "      <td>2227.92</td>\n",
       "    </tr>\n",
       "  </tbody>\n",
       "</table>\n",
       "</div>"
      ],
      "text/plain": [
       "     Annee      Pays                               Type  \\\n",
       "175   2007  Bulgarie                 Total des d�penses   \n",
       "176   2007  Bulgarie                 Total des d�penses   \n",
       "177   2007  Bulgarie                 Total des d�penses   \n",
       "178   2007  Bulgarie                 Total des d�penses   \n",
       "179   2007  Bulgarie                 Total des d�penses   \n",
       "180   2007  Bulgarie  Prestations de protection sociale   \n",
       "181   2007  Bulgarie  Prestations de protection sociale   \n",
       "182   2007  Bulgarie  Prestations de protection sociale   \n",
       "183   2007  Bulgarie  Prestations de protection sociale   \n",
       "184   2007  Bulgarie  Prestations de protection sociale   \n",
       "185   2007  Bulgarie         D�penses de fonctionnement   \n",
       "186   2007  Bulgarie         D�penses de fonctionnement   \n",
       "187   2007  Bulgarie         D�penses de fonctionnement   \n",
       "188   2007  Bulgarie         D�penses de fonctionnement   \n",
       "189   2007  Bulgarie         D�penses de fonctionnement   \n",
       "190   2007  Bulgarie                    Autres d�penses   \n",
       "191   2007  Bulgarie                    Autres d�penses   \n",
       "192   2007  Bulgarie                    Autres d�penses   \n",
       "193   2007  Bulgarie                    Autres d�penses   \n",
       "194   2007  Bulgarie                    Autres d�penses   \n",
       "195   2007  Bulgarie             Maladie/Soins de sant�   \n",
       "196   2007  Bulgarie             Maladie/Soins de sant�   \n",
       "197   2007  Bulgarie             Maladie/Soins de sant�   \n",
       "198   2007  Bulgarie             Maladie/Soins de sant�   \n",
       "199   2007  Bulgarie             Maladie/Soins de sant�   \n",
       "\n",
       "                                              Unite  Montant  \n",
       "175                                Millions d'euros  4353.09  \n",
       "176   Millions d'euros (aux prix constants de 2010)  4861.99  \n",
       "177                               Euro par habitant   576.92  \n",
       "178  Euro par habitant (aux prix constants de 2010)   644.37  \n",
       "179          Millions d'unit�s de monnaie nationale  8513.77  \n",
       "180                                Millions d'euros  4209.10  \n",
       "181   Millions d'euros (aux prix constants de 2010)  4701.18  \n",
       "182                               Euro par habitant   557.84  \n",
       "183  Euro par habitant (aux prix constants de 2010)   623.06  \n",
       "184          Millions d'unit�s de monnaie nationale  8232.16  \n",
       "185                                Millions d'euros   108.59  \n",
       "186   Millions d'euros (aux prix constants de 2010)   121.29  \n",
       "187                               Euro par habitant    14.39  \n",
       "188  Euro par habitant (aux prix constants de 2010)    16.07  \n",
       "189          Millions d'unit�s de monnaie nationale   212.39  \n",
       "190                                Millions d'euros    35.39  \n",
       "191   Millions d'euros (aux prix constants de 2010)    39.53  \n",
       "192                               Euro par habitant     4.69  \n",
       "193  Euro par habitant (aux prix constants de 2010)     5.24  \n",
       "194          Millions d'unit�s de monnaie nationale    69.22  \n",
       "195                                Millions d'euros  1139.13  \n",
       "196   Millions d'euros (aux prix constants de 2010)  1272.31  \n",
       "197                               Euro par habitant   150.97  \n",
       "198  Euro par habitant (aux prix constants de 2010)   168.62  \n",
       "199          Millions d'unit�s de monnaie nationale  2227.92  "
      ]
     },
     "execution_count": 12,
     "metadata": {},
     "output_type": "execute_result"
    }
   ],
   "source": [
    "health[(health['Pays']=='Bulgarie')&(health['Annee']==2007)]"
   ]
  },
  {
   "cell_type": "code",
   "execution_count": 13,
   "metadata": {},
   "outputs": [],
   "source": [
    "#df_pr =prison\n",
    "#df_pr=df_pr[df_pr['Eff_pri']!=':']\n",
    "#df_pr['Eff_pri']=df_pr['Eff_pri'].astype(\"int64\")\n",
    "#df_pr \n",
    "df_hlt=health"
   ]
  },
  {
   "cell_type": "code",
   "execution_count": 14,
   "metadata": {},
   "outputs": [
    {
     "name": "stdout",
     "output_type": "stream",
     "text": [
      "<class 'pandas.core.frame.DataFrame'>\n",
      "RangeIndex: 9750 entries, 0 to 9749\n",
      "Data columns (total 5 columns):\n",
      " #   Column   Non-Null Count  Dtype  \n",
      "---  ------   --------------  -----  \n",
      " 0   Annee    9750 non-null   int64  \n",
      " 1   Pays     9750 non-null   object \n",
      " 2   Type     9750 non-null   object \n",
      " 3   Unite    9750 non-null   object \n",
      " 4   Montant  9050 non-null   float64\n",
      "dtypes: float64(1), int64(1), object(3)\n",
      "memory usage: 381.0+ KB\n"
     ]
    }
   ],
   "source": [
    "df_hlt.info()"
   ]
  },
  {
   "cell_type": "code",
   "execution_count": 15,
   "metadata": {},
   "outputs": [],
   "source": [
    "#df_pr[df_pr['Pays']=='France']"
   ]
  },
  {
   "cell_type": "code",
   "execution_count": 16,
   "metadata": {},
   "outputs": [],
   "source": [
    "#df_pr[df_pr['Annee']==2007]"
   ]
  },
  {
   "cell_type": "code",
   "execution_count": 17,
   "metadata": {},
   "outputs": [],
   "source": [
    "countries = [\"Allemagne (jusqu'en 1990, ancien territoire de la RFA)\", 'Autriche', 'Belgique', 'Espagne', 'Finlande', 'France',\n",
    "              'Irlande', 'Italie', 'Luxembourg', 'Pays-Bas', 'Portugal', 'Gr�ce',\n",
    "              'Slov�nie', 'Chypre', 'Malte', 'Slovaquie', 'Estonie', 'Lettonie', 'Lituanie']"
   ]
  },
  {
   "cell_type": "code",
   "execution_count": 18,
   "metadata": {},
   "outputs": [
    {
     "data": {
      "text/html": [
       "<div>\n",
       "<style scoped>\n",
       "    .dataframe tbody tr th:only-of-type {\n",
       "        vertical-align: middle;\n",
       "    }\n",
       "\n",
       "    .dataframe tbody tr th {\n",
       "        vertical-align: top;\n",
       "    }\n",
       "\n",
       "    .dataframe thead th {\n",
       "        text-align: right;\n",
       "    }\n",
       "</style>\n",
       "<table border=\"1\" class=\"dataframe\">\n",
       "  <thead>\n",
       "    <tr style=\"text-align: right;\">\n",
       "      <th></th>\n",
       "      <th>Annee</th>\n",
       "      <th>Pays</th>\n",
       "      <th>Type</th>\n",
       "      <th>Unite</th>\n",
       "      <th>Montant</th>\n",
       "    </tr>\n",
       "  </thead>\n",
       "  <tbody>\n",
       "    <tr>\n",
       "      <th>150</th>\n",
       "      <td>2007</td>\n",
       "      <td>Belgique</td>\n",
       "      <td>Total des d�penses</td>\n",
       "      <td>Millions d'euros</td>\n",
       "      <td>90470.79</td>\n",
       "    </tr>\n",
       "    <tr>\n",
       "      <th>151</th>\n",
       "      <td>2007</td>\n",
       "      <td>Belgique</td>\n",
       "      <td>Total des d�penses</td>\n",
       "      <td>Millions d'euros (aux prix constants de 2010)</td>\n",
       "      <td>96093.20</td>\n",
       "    </tr>\n",
       "    <tr>\n",
       "      <th>152</th>\n",
       "      <td>2007</td>\n",
       "      <td>Belgique</td>\n",
       "      <td>Total des d�penses</td>\n",
       "      <td>Euro par habitant</td>\n",
       "      <td>8514.34</td>\n",
       "    </tr>\n",
       "    <tr>\n",
       "      <th>153</th>\n",
       "      <td>2007</td>\n",
       "      <td>Belgique</td>\n",
       "      <td>Total des d�penses</td>\n",
       "      <td>Euro par habitant (aux prix constants de 2010)</td>\n",
       "      <td>9043.47</td>\n",
       "    </tr>\n",
       "    <tr>\n",
       "      <th>154</th>\n",
       "      <td>2007</td>\n",
       "      <td>Belgique</td>\n",
       "      <td>Total des d�penses</td>\n",
       "      <td>Millions d'unit�s de monnaie nationale</td>\n",
       "      <td>90470.79</td>\n",
       "    </tr>\n",
       "    <tr>\n",
       "      <th>...</th>\n",
       "      <td>...</td>\n",
       "      <td>...</td>\n",
       "      <td>...</td>\n",
       "      <td>...</td>\n",
       "      <td>...</td>\n",
       "    </tr>\n",
       "    <tr>\n",
       "      <th>9570</th>\n",
       "      <td>2016</td>\n",
       "      <td>Finlande</td>\n",
       "      <td>Maladie/Soins de sant�</td>\n",
       "      <td>Millions d'euros</td>\n",
       "      <td>15359.30</td>\n",
       "    </tr>\n",
       "    <tr>\n",
       "      <th>9571</th>\n",
       "      <td>2016</td>\n",
       "      <td>Finlande</td>\n",
       "      <td>Maladie/Soins de sant�</td>\n",
       "      <td>Millions d'euros (aux prix constants de 2010)</td>\n",
       "      <td>13767.38</td>\n",
       "    </tr>\n",
       "    <tr>\n",
       "      <th>9572</th>\n",
       "      <td>2016</td>\n",
       "      <td>Finlande</td>\n",
       "      <td>Maladie/Soins de sant�</td>\n",
       "      <td>Euro par habitant</td>\n",
       "      <td>2794.99</td>\n",
       "    </tr>\n",
       "    <tr>\n",
       "      <th>9573</th>\n",
       "      <td>2016</td>\n",
       "      <td>Finlande</td>\n",
       "      <td>Maladie/Soins de sant�</td>\n",
       "      <td>Euro par habitant (aux prix constants de 2010)</td>\n",
       "      <td>2505.30</td>\n",
       "    </tr>\n",
       "    <tr>\n",
       "      <th>9574</th>\n",
       "      <td>2016</td>\n",
       "      <td>Finlande</td>\n",
       "      <td>Maladie/Soins de sant�</td>\n",
       "      <td>Millions d'unit�s de monnaie nationale</td>\n",
       "      <td>15359.30</td>\n",
       "    </tr>\n",
       "  </tbody>\n",
       "</table>\n",
       "<p>4750 rows × 5 columns</p>\n",
       "</div>"
      ],
      "text/plain": [
       "      Annee      Pays                    Type  \\\n",
       "150    2007  Belgique      Total des d�penses   \n",
       "151    2007  Belgique      Total des d�penses   \n",
       "152    2007  Belgique      Total des d�penses   \n",
       "153    2007  Belgique      Total des d�penses   \n",
       "154    2007  Belgique      Total des d�penses   \n",
       "...     ...       ...                     ...   \n",
       "9570   2016  Finlande  Maladie/Soins de sant�   \n",
       "9571   2016  Finlande  Maladie/Soins de sant�   \n",
       "9572   2016  Finlande  Maladie/Soins de sant�   \n",
       "9573   2016  Finlande  Maladie/Soins de sant�   \n",
       "9574   2016  Finlande  Maladie/Soins de sant�   \n",
       "\n",
       "                                               Unite   Montant  \n",
       "150                                 Millions d'euros  90470.79  \n",
       "151    Millions d'euros (aux prix constants de 2010)  96093.20  \n",
       "152                                Euro par habitant   8514.34  \n",
       "153   Euro par habitant (aux prix constants de 2010)   9043.47  \n",
       "154           Millions d'unit�s de monnaie nationale  90470.79  \n",
       "...                                              ...       ...  \n",
       "9570                                Millions d'euros  15359.30  \n",
       "9571   Millions d'euros (aux prix constants de 2010)  13767.38  \n",
       "9572                               Euro par habitant   2794.99  \n",
       "9573  Euro par habitant (aux prix constants de 2010)   2505.30  \n",
       "9574          Millions d'unit�s de monnaie nationale  15359.30  \n",
       "\n",
       "[4750 rows x 5 columns]"
      ]
     },
     "execution_count": 18,
     "metadata": {},
     "output_type": "execute_result"
    }
   ],
   "source": [
    "#for i in range(19):\n",
    "    #print(countries[i])\n",
    "    #df_pr_filt=df_pr[df_pr['Pays'].isin([countries[i]])]\n",
    "df_hlt_filt=df_hlt[df_hlt['Pays'].isin(countries)]\n",
    "df_hlt_filt"
   ]
  },
  {
   "cell_type": "code",
   "execution_count": 19,
   "metadata": {},
   "outputs": [
    {
     "data": {
      "text/plain": [
       "Montant    5194.095556\n",
       "dtype: float64"
      ]
     },
     "execution_count": 19,
     "metadata": {},
     "output_type": "execute_result"
    }
   ],
   "source": [
    "df_hlt[(df_hlt['Unite']=='Euro par habitant')&(df_hlt['Type']=='Maladie/Soins de sant�')].groupby(\"Pays\")[['Montant']].mean().max()"
   ]
  },
  {
   "cell_type": "code",
   "execution_count": 20,
   "metadata": {},
   "outputs": [
    {
     "data": {
      "text/plain": [
       "Montant    Norv�ge\n",
       "dtype: object"
      ]
     },
     "execution_count": 20,
     "metadata": {},
     "output_type": "execute_result"
    }
   ],
   "source": [
    "df_hlt[(df_hlt['Unite']=='Euro par habitant')&(df_hlt['Type']=='Maladie/Soins de sant�')].groupby(\"Pays\")[['Montant']].mean().idxmax()"
   ]
  },
  {
   "cell_type": "code",
   "execution_count": 21,
   "metadata": {},
   "outputs": [
    {
     "data": {
      "text/plain": [
       "Montant    4572.139\n",
       "dtype: float64"
      ]
     },
     "execution_count": 21,
     "metadata": {},
     "output_type": "execute_result"
    }
   ],
   "source": [
    "df_hlt_filt[(df_hlt_filt['Unite']=='Euro par habitant')&(df_hlt_filt['Type']=='Maladie/Soins de sant�')].groupby(\"Pays\")[['Montant']].mean().max()"
   ]
  },
  {
   "cell_type": "code",
   "execution_count": 22,
   "metadata": {},
   "outputs": [
    {
     "data": {
      "text/plain": [
       "Montant    Luxembourg\n",
       "dtype: object"
      ]
     },
     "execution_count": 22,
     "metadata": {},
     "output_type": "execute_result"
    }
   ],
   "source": [
    "df_hlt_filt[(df_hlt_filt['Unite']=='Euro par habitant')&(df_hlt_filt['Type']=='Maladie/Soins de sant�')].groupby(\"Pays\")[['Montant']].mean().idxmax()"
   ]
  },
  {
   "cell_type": "markdown",
   "metadata": {},
   "source": [
    "### Où dépense-t-on le moins pour les soins de santé par habitant. En sone euro 19."
   ]
  },
  {
   "cell_type": "code",
   "execution_count": 23,
   "metadata": {},
   "outputs": [
    {
     "data": {
      "text/plain": [
       "Montant    237.709\n",
       "dtype: float64"
      ]
     },
     "execution_count": 23,
     "metadata": {},
     "output_type": "execute_result"
    }
   ],
   "source": [
    "df_hlt[(df_hlt['Unite']=='Euro par habitant')&(df_hlt['Type']=='Maladie/Soins de sant�')].groupby(\"Pays\")[['Montant']].mean().min()"
   ]
  },
  {
   "cell_type": "code",
   "execution_count": 24,
   "metadata": {},
   "outputs": [
    {
     "data": {
      "text/plain": [
       "Montant    Bulgarie\n",
       "dtype: object"
      ]
     },
     "execution_count": 24,
     "metadata": {},
     "output_type": "execute_result"
    }
   ],
   "source": [
    "df_hlt[(df_hlt['Unite']=='Euro par habitant')&(df_hlt['Type']=='Maladie/Soins de sant�')].groupby(\"Pays\")[['Montant']].mean().idxmin()"
   ]
  },
  {
   "cell_type": "code",
   "execution_count": 25,
   "metadata": {},
   "outputs": [
    {
     "data": {
      "text/plain": [
       "Montant    383.016\n",
       "dtype: float64"
      ]
     },
     "execution_count": 25,
     "metadata": {},
     "output_type": "execute_result"
    }
   ],
   "source": [
    "df_hlt_filt[(df_hlt_filt['Unite']=='Euro par habitant')&(df_hlt_filt['Type']=='Maladie/Soins de sant�')].groupby(\"Pays\")[['Montant']].mean().min()"
   ]
  },
  {
   "cell_type": "code",
   "execution_count": 26,
   "metadata": {},
   "outputs": [
    {
     "data": {
      "text/plain": [
       "Montant    Lettonie\n",
       "dtype: object"
      ]
     },
     "execution_count": 26,
     "metadata": {},
     "output_type": "execute_result"
    }
   ],
   "source": [
    "df_hlt_filt[(df_hlt_filt['Unite']=='Euro par habitant')&(df_hlt_filt['Type']=='Maladie/Soins de sant�')].groupby(\"Pays\")[['Montant']].mean().idxmin()"
   ]
  },
  {
   "cell_type": "markdown",
   "metadata": {},
   "source": [
    "### Quel est le taux de change monétaire en 2007 pour la Bulgarie."
   ]
  },
  {
   "cell_type": "code",
   "execution_count": 27,
   "metadata": {},
   "outputs": [],
   "source": [
    "natzerosev= health[(health['Pays']=='Bulgarie')&(health['Annee']==2007)]\n",
    "natzerosev=natzerosev[natzerosev['Type']=='Total des d�penses']\n",
    "natzeroseveu=natzerosev[natzerosev['Unite']==\"Millions d'euros\"]\n",
    "natzerosevlev=natzerosev[natzerosev['Unite']==\"Millions d'unit�s de monnaie nationale\"]"
   ]
  },
  {
   "cell_type": "code",
   "execution_count": 28,
   "metadata": {},
   "outputs": [
    {
     "data": {
      "text/html": [
       "<div>\n",
       "<style scoped>\n",
       "    .dataframe tbody tr th:only-of-type {\n",
       "        vertical-align: middle;\n",
       "    }\n",
       "\n",
       "    .dataframe tbody tr th {\n",
       "        vertical-align: top;\n",
       "    }\n",
       "\n",
       "    .dataframe thead th {\n",
       "        text-align: right;\n",
       "    }\n",
       "</style>\n",
       "<table border=\"1\" class=\"dataframe\">\n",
       "  <thead>\n",
       "    <tr style=\"text-align: right;\">\n",
       "      <th></th>\n",
       "      <th>Annee</th>\n",
       "      <th>Pays</th>\n",
       "      <th>Type</th>\n",
       "      <th>Unite</th>\n",
       "      <th>Montant</th>\n",
       "    </tr>\n",
       "  </thead>\n",
       "  <tbody>\n",
       "    <tr>\n",
       "      <th>175</th>\n",
       "      <td>2007</td>\n",
       "      <td>Bulgarie</td>\n",
       "      <td>Total des d�penses</td>\n",
       "      <td>Millions d'euros</td>\n",
       "      <td>4353.09</td>\n",
       "    </tr>\n",
       "  </tbody>\n",
       "</table>\n",
       "</div>"
      ],
      "text/plain": [
       "     Annee      Pays                Type             Unite  Montant\n",
       "175   2007  Bulgarie  Total des d�penses  Millions d'euros  4353.09"
      ]
     },
     "execution_count": 28,
     "metadata": {},
     "output_type": "execute_result"
    }
   ],
   "source": [
    "natzeroseveu"
   ]
  },
  {
   "cell_type": "code",
   "execution_count": 29,
   "metadata": {},
   "outputs": [
    {
     "data": {
      "text/html": [
       "<div>\n",
       "<style scoped>\n",
       "    .dataframe tbody tr th:only-of-type {\n",
       "        vertical-align: middle;\n",
       "    }\n",
       "\n",
       "    .dataframe tbody tr th {\n",
       "        vertical-align: top;\n",
       "    }\n",
       "\n",
       "    .dataframe thead th {\n",
       "        text-align: right;\n",
       "    }\n",
       "</style>\n",
       "<table border=\"1\" class=\"dataframe\">\n",
       "  <thead>\n",
       "    <tr style=\"text-align: right;\">\n",
       "      <th></th>\n",
       "      <th>Annee</th>\n",
       "      <th>Pays</th>\n",
       "      <th>Type</th>\n",
       "      <th>Unite</th>\n",
       "      <th>Montant</th>\n",
       "    </tr>\n",
       "  </thead>\n",
       "  <tbody>\n",
       "    <tr>\n",
       "      <th>179</th>\n",
       "      <td>2007</td>\n",
       "      <td>Bulgarie</td>\n",
       "      <td>Total des d�penses</td>\n",
       "      <td>Millions d'unit�s de monnaie nationale</td>\n",
       "      <td>8513.77</td>\n",
       "    </tr>\n",
       "  </tbody>\n",
       "</table>\n",
       "</div>"
      ],
      "text/plain": [
       "     Annee      Pays                Type  \\\n",
       "179   2007  Bulgarie  Total des d�penses   \n",
       "\n",
       "                                      Unite  Montant  \n",
       "179  Millions d'unit�s de monnaie nationale  8513.77  "
      ]
     },
     "execution_count": 29,
     "metadata": {},
     "output_type": "execute_result"
    }
   ],
   "source": [
    "natzerosevlev"
   ]
  },
  {
   "cell_type": "code",
   "execution_count": 30,
   "metadata": {},
   "outputs": [
    {
     "data": {
      "text/plain": [
       "4353.09"
      ]
     },
     "execution_count": 30,
     "metadata": {},
     "output_type": "execute_result"
    }
   ],
   "source": [
    "natzeroseveu['Montant'].values[0]"
   ]
  },
  {
   "cell_type": "code",
   "execution_count": 31,
   "metadata": {},
   "outputs": [
    {
     "name": "stdout",
     "output_type": "stream",
     "text": [
      "1 Lev is  0.51  Euro in 2007.\n"
     ]
    }
   ],
   "source": [
    "buleuconvzerosev=natzeroseveu['Montant'].values[0]/natzerosevlev['Montant'].values[0]\n",
    "print(\"1 Lev is \",round(buleuconvzerosev,2), \" Euro in 2007.\")"
   ]
  },
  {
   "cell_type": "code",
   "execution_count": 32,
   "metadata": {},
   "outputs": [
    {
     "name": "stdout",
     "output_type": "stream",
     "text": [
      "1 Euro is  1.96  Lev in 2007.\n"
     ]
    }
   ],
   "source": [
    "eubulconvzerosev=natzerosevlev['Montant'].values[0]/natzeroseveu['Montant'].values[0]\n",
    "print(\"1 Euro is \",round(eubulconvzerosev,2), \" Lev in 2007.\")\n"
   ]
  },
  {
   "cell_type": "markdown",
   "metadata": {},
   "source": [
    "## END------------------------------------------------------------"
   ]
  },
  {
   "cell_type": "markdown",
   "metadata": {},
   "source": [
    "## Resume"
   ]
  },
  {
   "cell_type": "markdown",
   "metadata": {},
   "source": [
    "### Où dépense-t-on le plus pour les soins de santé par habitant. En sone euro 19."
   ]
  },
  {
   "cell_type": "code",
   "execution_count": 36,
   "metadata": {},
   "outputs": [
    {
     "data": {
      "text/plain": [
       "4572.139"
      ]
     },
     "execution_count": 36,
     "metadata": {},
     "output_type": "execute_result"
    }
   ],
   "source": [
    "money_health=df_hlt_filt[(df_hlt_filt['Unite']=='Euro par habitant')&(df_hlt_filt['Type']=='Maladie/Soins de sant�')].groupby(\"Pays\")[['Montant']].mean().max().values[0]\n",
    "money_health"
   ]
  },
  {
   "cell_type": "code",
   "execution_count": 37,
   "metadata": {},
   "outputs": [
    {
     "data": {
      "text/plain": [
       "'Luxembourg'"
      ]
     },
     "execution_count": 37,
     "metadata": {},
     "output_type": "execute_result"
    }
   ],
   "source": [
    "cntr_money_health=df_hlt_filt[(df_hlt_filt['Unite']=='Euro par habitant')&(df_hlt_filt['Type']=='Maladie/Soins de sant�')].groupby(\"Pays\")[['Montant']].mean().idxmax().values[0]\n",
    "cntr_money_health"
   ]
  },
  {
   "cell_type": "code",
   "execution_count": 53,
   "metadata": {},
   "outputs": [
    {
     "data": {
      "text/plain": [
       "'Le pays de la zone euro des 19 où on dépense le plus de soin de santé moyenne par habitant de 2007 à 2016 est : Luxembourg pour un montant de : 4572.1euros'"
      ]
     },
     "execution_count": 53,
     "metadata": {},
     "output_type": "execute_result"
    }
   ],
   "source": [
    "cntr_health=\"Le pays de la zone euro des 19 où on dépense le plus de soin de santé moyenne par habitant de 2007 à 2016 est : \"+str(cntr_money_health)+\" pour un montant de : \"+str(round(money_health,1))+\"euros\"\n",
    "cntr_health"
   ]
  },
  {
   "cell_type": "markdown",
   "metadata": {},
   "source": [
    "### Où dépense-t-on le moins pour les soins de santé par habitant. En sone euro 19."
   ]
  },
  {
   "cell_type": "code",
   "execution_count": 49,
   "metadata": {},
   "outputs": [
    {
     "data": {
      "text/plain": [
       "383.01599999999996"
      ]
     },
     "execution_count": 49,
     "metadata": {},
     "output_type": "execute_result"
    }
   ],
   "source": [
    "money_health_min=df_hlt_filt[(df_hlt_filt['Unite']=='Euro par habitant')&(df_hlt_filt['Type']=='Maladie/Soins de sant�')].groupby(\"Pays\")[['Montant']].mean().min().values[0]\n",
    "money_health_min"
   ]
  },
  {
   "cell_type": "code",
   "execution_count": 50,
   "metadata": {},
   "outputs": [
    {
     "data": {
      "text/plain": [
       "'Lettonie'"
      ]
     },
     "execution_count": 50,
     "metadata": {},
     "output_type": "execute_result"
    }
   ],
   "source": [
    "cntr_money_health_min=df_hlt_filt[(df_hlt_filt['Unite']=='Euro par habitant')&(df_hlt_filt['Type']=='Maladie/Soins de sant�')].groupby(\"Pays\")[['Montant']].mean().idxmin().values[0]\n",
    "cntr_money_health_min"
   ]
  },
  {
   "cell_type": "code",
   "execution_count": 54,
   "metadata": {},
   "outputs": [
    {
     "data": {
      "text/plain": [
       "'Le pays de la zone euro des 19 où on dépense le moins de soin de santé moyenne par habitant de 2007 à 2016 est : Lettonie pour un montant de : 383.0euros'"
      ]
     },
     "execution_count": 54,
     "metadata": {},
     "output_type": "execute_result"
    }
   ],
   "source": [
    "cntr_health_min=\"Le pays de la zone euro des 19 où on dépense le moins de soin de santé moyenne par habitant de 2007 à 2016 est : \"+str(cntr_money_health_min)+\" pour un montant de : \"+str(round(money_health_min,1))+\"euros\"\n",
    "cntr_health_min"
   ]
  },
  {
   "cell_type": "markdown",
   "metadata": {},
   "source": [
    "### Quel est le taux de change monétaire en 2007 pour la Bulgarie."
   ]
  },
  {
   "cell_type": "code",
   "execution_count": 42,
   "metadata": {},
   "outputs": [
    {
     "data": {
      "text/plain": [
       "'1 Lev is 0.51 Euro in 2007.'"
      ]
     },
     "execution_count": 42,
     "metadata": {},
     "output_type": "execute_result"
    }
   ],
   "source": [
    "buleuconvzerosev=natzeroseveu['Montant'].values[0]/natzerosevlev['Montant'].values[0]\n",
    "change_levtoeuro=\"1 Lev is \"+str(round(buleuconvzerosev,2))+ \" Euro in 2007.\"\n",
    "change_levtoeuro"
   ]
  },
  {
   "cell_type": "code",
   "execution_count": 43,
   "metadata": {},
   "outputs": [
    {
     "data": {
      "text/plain": [
       "'1 Euro is 1.96 Lev in 2007.'"
      ]
     },
     "execution_count": 43,
     "metadata": {},
     "output_type": "execute_result"
    }
   ],
   "source": [
    "eubulconvzerosev=natzerosevlev['Montant'].values[0]/natzeroseveu['Montant'].values[0]\n",
    "change_eurotolev=\"1 Euro is \"+str(round(eubulconvzerosev,2))+ \" Lev in 2007.\"\n",
    "change_eurotolev"
   ]
  },
  {
   "cell_type": "markdown",
   "metadata": {},
   "source": [
    "### Save data in text"
   ]
  },
  {
   "cell_type": "code",
   "execution_count": 55,
   "metadata": {},
   "outputs": [],
   "source": [
    "with open('eu19_health.txt', 'w') as txt:\n",
    "    txt.write(cntr_health+\"\\n\"+cntr_health_min+\"\\n\"+change_levtoeuro+\"\\n\"+change_eurotolev)"
   ]
  },
  {
   "cell_type": "code",
   "execution_count": null,
   "metadata": {},
   "outputs": [],
   "source": []
  }
 ],
 "metadata": {
  "kernelspec": {
   "display_name": "Python 3 (ipykernel)",
   "language": "python",
   "name": "python3"
  },
  "language_info": {
   "codemirror_mode": {
    "name": "ipython",
    "version": 3
   },
   "file_extension": ".py",
   "mimetype": "text/x-python",
   "name": "python",
   "nbconvert_exporter": "python",
   "pygments_lexer": "ipython3",
   "version": "3.9.13"
  }
 },
 "nbformat": 4,
 "nbformat_minor": 1
}
