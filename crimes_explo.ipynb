{
 "cells": [
  {
   "cell_type": "markdown",
   "metadata": {},
   "source": [
    "## I) Visualisation "
   ]
  },
  {
   "cell_type": "code",
   "execution_count": 1,
   "metadata": {},
   "outputs": [],
   "source": [
    "import pandas as pd"
   ]
  },
  {
   "cell_type": "code",
   "execution_count": 2,
   "metadata": {},
   "outputs": [],
   "source": [
    "crimes = pd.read_csv('crimes.csv')"
   ]
  },
  {
   "cell_type": "code",
   "execution_count": 3,
   "metadata": {},
   "outputs": [
    {
     "name": "stdout",
     "output_type": "stream",
     "text": [
      "<class 'pandas.core.frame.DataFrame'>\n",
      "RangeIndex: 1854 entries, 0 to 1853\n",
      "Data columns (total 5 columns):\n",
      " #   Column  Non-Null Count  Dtype \n",
      "---  ------  --------------  ----- \n",
      " 0   TIME    1854 non-null   int64 \n",
      " 1   GEO     1854 non-null   object\n",
      " 2   UNIT    1854 non-null   object\n",
      " 3   ICCS    1854 non-null   object\n",
      " 4   Value   1854 non-null   int64 \n",
      "dtypes: int64(2), object(3)\n",
      "memory usage: 72.5+ KB\n"
     ]
    }
   ],
   "source": [
    "crimes.info()"
   ]
  },
  {
   "cell_type": "code",
   "execution_count": 4,
   "metadata": {},
   "outputs": [
    {
     "data": {
      "text/html": [
       "<div>\n",
       "<style scoped>\n",
       "    .dataframe tbody tr th:only-of-type {\n",
       "        vertical-align: middle;\n",
       "    }\n",
       "\n",
       "    .dataframe tbody tr th {\n",
       "        vertical-align: top;\n",
       "    }\n",
       "\n",
       "    .dataframe thead th {\n",
       "        text-align: right;\n",
       "    }\n",
       "</style>\n",
       "<table border=\"1\" class=\"dataframe\">\n",
       "  <thead>\n",
       "    <tr style=\"text-align: right;\">\n",
       "      <th></th>\n",
       "      <th>TIME</th>\n",
       "      <th>GEO</th>\n",
       "      <th>UNIT</th>\n",
       "      <th>ICCS</th>\n",
       "      <th>Value</th>\n",
       "    </tr>\n",
       "  </thead>\n",
       "  <tbody>\n",
       "    <tr>\n",
       "      <th>0</th>\n",
       "      <td>1998</td>\n",
       "      <td>Bulgarie</td>\n",
       "      <td>Nombre</td>\n",
       "      <td>Total</td>\n",
       "      <td>163988</td>\n",
       "    </tr>\n",
       "    <tr>\n",
       "      <th>1</th>\n",
       "      <td>1998</td>\n",
       "      <td>Bulgarie</td>\n",
       "      <td>Nombre</td>\n",
       "      <td>Homicide intentionnel</td>\n",
       "      <td>381</td>\n",
       "    </tr>\n",
       "    <tr>\n",
       "      <th>2</th>\n",
       "      <td>1998</td>\n",
       "      <td>Bulgarie</td>\n",
       "      <td>Nombre</td>\n",
       "      <td>Vol qualifié</td>\n",
       "      <td>4494</td>\n",
       "    </tr>\n",
       "    <tr>\n",
       "      <th>3</th>\n",
       "      <td>1998</td>\n",
       "      <td>Bulgarie</td>\n",
       "      <td>Nombre</td>\n",
       "      <td>Cambriolage de locaux résidentiels privés</td>\n",
       "      <td>43830</td>\n",
       "    </tr>\n",
       "    <tr>\n",
       "      <th>4</th>\n",
       "      <td>1998</td>\n",
       "      <td>Tchéquie</td>\n",
       "      <td>Nombre</td>\n",
       "      <td>Total</td>\n",
       "      <td>425930</td>\n",
       "    </tr>\n",
       "  </tbody>\n",
       "</table>\n",
       "</div>"
      ],
      "text/plain": [
       "   TIME       GEO    UNIT                                       ICCS   Value\n",
       "0  1998  Bulgarie  Nombre                                      Total  163988\n",
       "1  1998  Bulgarie  Nombre                      Homicide intentionnel     381\n",
       "2  1998  Bulgarie  Nombre                               Vol qualifié    4494\n",
       "3  1998  Bulgarie  Nombre  Cambriolage de locaux résidentiels privés   43830\n",
       "4  1998  Tchéquie  Nombre                                      Total  425930"
      ]
     },
     "execution_count": 4,
     "metadata": {},
     "output_type": "execute_result"
    }
   ],
   "source": [
    "crimes.head(5)"
   ]
  },
  {
   "cell_type": "code",
   "execution_count": 5,
   "metadata": {},
   "outputs": [
    {
     "data": {
      "text/html": [
       "<div>\n",
       "<style scoped>\n",
       "    .dataframe tbody tr th:only-of-type {\n",
       "        vertical-align: middle;\n",
       "    }\n",
       "\n",
       "    .dataframe tbody tr th {\n",
       "        vertical-align: top;\n",
       "    }\n",
       "\n",
       "    .dataframe thead th {\n",
       "        text-align: right;\n",
       "    }\n",
       "</style>\n",
       "<table border=\"1\" class=\"dataframe\">\n",
       "  <thead>\n",
       "    <tr style=\"text-align: right;\">\n",
       "      <th></th>\n",
       "      <th>TIME</th>\n",
       "      <th>Value</th>\n",
       "    </tr>\n",
       "  </thead>\n",
       "  <tbody>\n",
       "    <tr>\n",
       "      <th>count</th>\n",
       "      <td>1854.000000</td>\n",
       "      <td>1.854000e+03</td>\n",
       "    </tr>\n",
       "    <tr>\n",
       "      <th>mean</th>\n",
       "      <td>2002.643474</td>\n",
       "      <td>2.150631e+05</td>\n",
       "    </tr>\n",
       "    <tr>\n",
       "      <th>std</th>\n",
       "      <td>2.825309</td>\n",
       "      <td>7.755221e+05</td>\n",
       "    </tr>\n",
       "    <tr>\n",
       "      <th>min</th>\n",
       "      <td>1998.000000</td>\n",
       "      <td>0.000000e+00</td>\n",
       "    </tr>\n",
       "    <tr>\n",
       "      <th>25%</th>\n",
       "      <td>2000.000000</td>\n",
       "      <td>8.510000e+02</td>\n",
       "    </tr>\n",
       "    <tr>\n",
       "      <th>50%</th>\n",
       "      <td>2003.000000</td>\n",
       "      <td>9.591000e+03</td>\n",
       "    </tr>\n",
       "    <tr>\n",
       "      <th>75%</th>\n",
       "      <td>2005.000000</td>\n",
       "      <td>8.369050e+04</td>\n",
       "    </tr>\n",
       "    <tr>\n",
       "      <th>max</th>\n",
       "      <td>2007.000000</td>\n",
       "      <td>6.633156e+06</td>\n",
       "    </tr>\n",
       "  </tbody>\n",
       "</table>\n",
       "</div>"
      ],
      "text/plain": [
       "              TIME         Value\n",
       "count  1854.000000  1.854000e+03\n",
       "mean   2002.643474  2.150631e+05\n",
       "std       2.825309  7.755221e+05\n",
       "min    1998.000000  0.000000e+00\n",
       "25%    2000.000000  8.510000e+02\n",
       "50%    2003.000000  9.591000e+03\n",
       "75%    2005.000000  8.369050e+04\n",
       "max    2007.000000  6.633156e+06"
      ]
     },
     "execution_count": 5,
     "metadata": {},
     "output_type": "execute_result"
    }
   ],
   "source": [
    "crimes.describe()"
   ]
  },
  {
   "cell_type": "code",
   "execution_count": 6,
   "metadata": {},
   "outputs": [
    {
     "data": {
      "text/plain": [
       "TIME     1854\n",
       "GEO      1854\n",
       "UNIT     1854\n",
       "ICCS     1854\n",
       "Value    1854\n",
       "dtype: int64"
      ]
     },
     "execution_count": 6,
     "metadata": {},
     "output_type": "execute_result"
    }
   ],
   "source": [
    "crimes.count()"
   ]
  },
  {
   "cell_type": "code",
   "execution_count": 7,
   "metadata": {},
   "outputs": [
    {
     "data": {
      "text/plain": [
       "5"
      ]
     },
     "execution_count": 7,
     "metadata": {},
     "output_type": "execute_result"
    }
   ],
   "source": [
    "len(crimes.columns)"
   ]
  },
  {
   "cell_type": "code",
   "execution_count": 8,
   "metadata": {},
   "outputs": [
    {
     "data": {
      "text/plain": [
       "array(['TIME', 'GEO', 'UNIT', 'ICCS', 'Value'], dtype=object)"
      ]
     },
     "execution_count": 8,
     "metadata": {},
     "output_type": "execute_result"
    }
   ],
   "source": [
    "crimes.columns.values"
   ]
  },
  {
   "cell_type": "code",
   "execution_count": 9,
   "metadata": {},
   "outputs": [
    {
     "data": {
      "text/html": [
       "<div>\n",
       "<style scoped>\n",
       "    .dataframe tbody tr th:only-of-type {\n",
       "        vertical-align: middle;\n",
       "    }\n",
       "\n",
       "    .dataframe tbody tr th {\n",
       "        vertical-align: top;\n",
       "    }\n",
       "\n",
       "    .dataframe thead th {\n",
       "        text-align: right;\n",
       "    }\n",
       "</style>\n",
       "<table border=\"1\" class=\"dataframe\">\n",
       "  <thead>\n",
       "    <tr style=\"text-align: right;\">\n",
       "      <th></th>\n",
       "      <th>TIME</th>\n",
       "      <th>GEO</th>\n",
       "      <th>UNIT</th>\n",
       "      <th>ICCS</th>\n",
       "      <th>Value</th>\n",
       "    </tr>\n",
       "  </thead>\n",
       "  <tbody>\n",
       "    <tr>\n",
       "      <th>0</th>\n",
       "      <td>1998</td>\n",
       "      <td>Bulgarie</td>\n",
       "      <td>Nombre</td>\n",
       "      <td>Total</td>\n",
       "      <td>163988</td>\n",
       "    </tr>\n",
       "  </tbody>\n",
       "</table>\n",
       "</div>"
      ],
      "text/plain": [
       "   TIME       GEO    UNIT   ICCS   Value\n",
       "0  1998  Bulgarie  Nombre  Total  163988"
      ]
     },
     "execution_count": 9,
     "metadata": {},
     "output_type": "execute_result"
    }
   ],
   "source": [
    "crimes.head(1)"
   ]
  },
  {
   "cell_type": "markdown",
   "metadata": {},
   "source": [
    "# /////////////// TO DO ///////////////"
   ]
  },
  {
   "cell_type": "markdown",
   "metadata": {},
   "source": [
    "## Donnez les pays européens ayant le plus et le moins de cambriolage en 2007"
   ]
  },
  {
   "cell_type": "code",
   "execution_count": 10,
   "metadata": {},
   "outputs": [
    {
     "data": {
      "text/html": [
       "<div>\n",
       "<style scoped>\n",
       "    .dataframe tbody tr th:only-of-type {\n",
       "        vertical-align: middle;\n",
       "    }\n",
       "\n",
       "    .dataframe tbody tr th {\n",
       "        vertical-align: top;\n",
       "    }\n",
       "\n",
       "    .dataframe thead th {\n",
       "        text-align: right;\n",
       "    }\n",
       "</style>\n",
       "<table border=\"1\" class=\"dataframe\">\n",
       "  <thead>\n",
       "    <tr style=\"text-align: right;\">\n",
       "      <th></th>\n",
       "      <th>TIME</th>\n",
       "      <th>GEO</th>\n",
       "      <th>UNIT</th>\n",
       "      <th>ICCS</th>\n",
       "      <th>Value</th>\n",
       "    </tr>\n",
       "  </thead>\n",
       "  <tbody>\n",
       "    <tr>\n",
       "      <th>1666</th>\n",
       "      <td>2007</td>\n",
       "      <td>Belgique</td>\n",
       "      <td>Nombre</td>\n",
       "      <td>Cambriolage de locaux résidentiels privés</td>\n",
       "      <td>62964</td>\n",
       "    </tr>\n",
       "    <tr>\n",
       "      <th>1671</th>\n",
       "      <td>2007</td>\n",
       "      <td>Bulgarie</td>\n",
       "      <td>Nombre</td>\n",
       "      <td>Cambriolage de locaux résidentiels privés</td>\n",
       "      <td>22208</td>\n",
       "    </tr>\n",
       "    <tr>\n",
       "      <th>1676</th>\n",
       "      <td>2007</td>\n",
       "      <td>Tchéquie</td>\n",
       "      <td>Nombre</td>\n",
       "      <td>Cambriolage de locaux résidentiels privés</td>\n",
       "      <td>9163</td>\n",
       "    </tr>\n",
       "    <tr>\n",
       "      <th>1681</th>\n",
       "      <td>2007</td>\n",
       "      <td>Danemark</td>\n",
       "      <td>Nombre</td>\n",
       "      <td>Cambriolage de locaux résidentiels privés</td>\n",
       "      <td>36342</td>\n",
       "    </tr>\n",
       "    <tr>\n",
       "      <th>1686</th>\n",
       "      <td>2007</td>\n",
       "      <td>Allemagne (jusqu'en 1990, ancien territoire de...</td>\n",
       "      <td>Nombre</td>\n",
       "      <td>Cambriolage de locaux résidentiels privés</td>\n",
       "      <td>109128</td>\n",
       "    </tr>\n",
       "    <tr>\n",
       "      <th>1691</th>\n",
       "      <td>2007</td>\n",
       "      <td>Estonie</td>\n",
       "      <td>Nombre</td>\n",
       "      <td>Cambriolage de locaux résidentiels privés</td>\n",
       "      <td>3096</td>\n",
       "    </tr>\n",
       "    <tr>\n",
       "      <th>1695</th>\n",
       "      <td>2007</td>\n",
       "      <td>Irlande</td>\n",
       "      <td>Nombre</td>\n",
       "      <td>Cambriolage de locaux résidentiels privés</td>\n",
       "      <td>23603</td>\n",
       "    </tr>\n",
       "    <tr>\n",
       "      <th>1700</th>\n",
       "      <td>2007</td>\n",
       "      <td>Grèce</td>\n",
       "      <td>Nombre</td>\n",
       "      <td>Cambriolage de locaux résidentiels privés</td>\n",
       "      <td>49886</td>\n",
       "    </tr>\n",
       "    <tr>\n",
       "      <th>1705</th>\n",
       "      <td>2007</td>\n",
       "      <td>Espagne</td>\n",
       "      <td>Nombre</td>\n",
       "      <td>Cambriolage de locaux résidentiels privés</td>\n",
       "      <td>72723</td>\n",
       "    </tr>\n",
       "    <tr>\n",
       "      <th>1710</th>\n",
       "      <td>2007</td>\n",
       "      <td>France</td>\n",
       "      <td>Nombre</td>\n",
       "      <td>Cambriolage de locaux résidentiels privés</td>\n",
       "      <td>165780</td>\n",
       "    </tr>\n",
       "    <tr>\n",
       "      <th>1715</th>\n",
       "      <td>2007</td>\n",
       "      <td>France (métropolitaine)</td>\n",
       "      <td>Nombre</td>\n",
       "      <td>Cambriolage de locaux résidentiels privés</td>\n",
       "      <td>165780</td>\n",
       "    </tr>\n",
       "    <tr>\n",
       "      <th>1720</th>\n",
       "      <td>2007</td>\n",
       "      <td>Croatie</td>\n",
       "      <td>Nombre</td>\n",
       "      <td>Cambriolage de locaux résidentiels privés</td>\n",
       "      <td>3094</td>\n",
       "    </tr>\n",
       "    <tr>\n",
       "      <th>1725</th>\n",
       "      <td>2007</td>\n",
       "      <td>Italie</td>\n",
       "      <td>Nombre</td>\n",
       "      <td>Cambriolage de locaux résidentiels privés</td>\n",
       "      <td>169367</td>\n",
       "    </tr>\n",
       "    <tr>\n",
       "      <th>1730</th>\n",
       "      <td>2007</td>\n",
       "      <td>Chypre</td>\n",
       "      <td>Nombre</td>\n",
       "      <td>Cambriolage de locaux résidentiels privés</td>\n",
       "      <td>2656</td>\n",
       "    </tr>\n",
       "    <tr>\n",
       "      <th>1735</th>\n",
       "      <td>2007</td>\n",
       "      <td>Lettonie</td>\n",
       "      <td>Nombre</td>\n",
       "      <td>Cambriolage de locaux résidentiels privés</td>\n",
       "      <td>3654</td>\n",
       "    </tr>\n",
       "    <tr>\n",
       "      <th>1740</th>\n",
       "      <td>2007</td>\n",
       "      <td>Lituanie</td>\n",
       "      <td>Nombre</td>\n",
       "      <td>Cambriolage de locaux résidentiels privés</td>\n",
       "      <td>5516</td>\n",
       "    </tr>\n",
       "    <tr>\n",
       "      <th>1745</th>\n",
       "      <td>2007</td>\n",
       "      <td>Luxembourg</td>\n",
       "      <td>Nombre</td>\n",
       "      <td>Cambriolage de locaux résidentiels privés</td>\n",
       "      <td>2030</td>\n",
       "    </tr>\n",
       "    <tr>\n",
       "      <th>1750</th>\n",
       "      <td>2007</td>\n",
       "      <td>Hongrie</td>\n",
       "      <td>Nombre</td>\n",
       "      <td>Cambriolage de locaux résidentiels privés</td>\n",
       "      <td>17415</td>\n",
       "    </tr>\n",
       "    <tr>\n",
       "      <th>1755</th>\n",
       "      <td>2007</td>\n",
       "      <td>Malte</td>\n",
       "      <td>Nombre</td>\n",
       "      <td>Cambriolage de locaux résidentiels privés</td>\n",
       "      <td>735</td>\n",
       "    </tr>\n",
       "    <tr>\n",
       "      <th>1760</th>\n",
       "      <td>2007</td>\n",
       "      <td>Pays-Bas</td>\n",
       "      <td>Nombre</td>\n",
       "      <td>Cambriolage de locaux résidentiels privés</td>\n",
       "      <td>89415</td>\n",
       "    </tr>\n",
       "    <tr>\n",
       "      <th>1765</th>\n",
       "      <td>2007</td>\n",
       "      <td>Autriche</td>\n",
       "      <td>Nombre</td>\n",
       "      <td>Cambriolage de locaux résidentiels privés</td>\n",
       "      <td>20040</td>\n",
       "    </tr>\n",
       "    <tr>\n",
       "      <th>1770</th>\n",
       "      <td>2007</td>\n",
       "      <td>Pologne</td>\n",
       "      <td>Nombre</td>\n",
       "      <td>Cambriolage de locaux résidentiels privés</td>\n",
       "      <td>37644</td>\n",
       "    </tr>\n",
       "    <tr>\n",
       "      <th>1775</th>\n",
       "      <td>2007</td>\n",
       "      <td>Portugal</td>\n",
       "      <td>Nombre</td>\n",
       "      <td>Cambriolage de locaux résidentiels privés</td>\n",
       "      <td>22324</td>\n",
       "    </tr>\n",
       "    <tr>\n",
       "      <th>1780</th>\n",
       "      <td>2007</td>\n",
       "      <td>Roumanie</td>\n",
       "      <td>Nombre</td>\n",
       "      <td>Cambriolage de locaux résidentiels privés</td>\n",
       "      <td>10829</td>\n",
       "    </tr>\n",
       "    <tr>\n",
       "      <th>1785</th>\n",
       "      <td>2007</td>\n",
       "      <td>Slovénie</td>\n",
       "      <td>Nombre</td>\n",
       "      <td>Cambriolage de locaux résidentiels privés</td>\n",
       "      <td>2282</td>\n",
       "    </tr>\n",
       "    <tr>\n",
       "      <th>1790</th>\n",
       "      <td>2007</td>\n",
       "      <td>Slovaquie</td>\n",
       "      <td>Nombre</td>\n",
       "      <td>Cambriolage de locaux résidentiels privés</td>\n",
       "      <td>2437</td>\n",
       "    </tr>\n",
       "    <tr>\n",
       "      <th>1795</th>\n",
       "      <td>2007</td>\n",
       "      <td>Finlande</td>\n",
       "      <td>Nombre</td>\n",
       "      <td>Cambriolage de locaux résidentiels privés</td>\n",
       "      <td>6532</td>\n",
       "    </tr>\n",
       "    <tr>\n",
       "      <th>1800</th>\n",
       "      <td>2007</td>\n",
       "      <td>Suède</td>\n",
       "      <td>Nombre</td>\n",
       "      <td>Cambriolage de locaux résidentiels privés</td>\n",
       "      <td>16936</td>\n",
       "    </tr>\n",
       "    <tr>\n",
       "      <th>1805</th>\n",
       "      <td>2007</td>\n",
       "      <td>England et Wales</td>\n",
       "      <td>Nombre</td>\n",
       "      <td>Cambriolage de locaux résidentiels privés</td>\n",
       "      <td>280696</td>\n",
       "    </tr>\n",
       "    <tr>\n",
       "      <th>1810</th>\n",
       "      <td>2007</td>\n",
       "      <td>Scotland</td>\n",
       "      <td>Nombre</td>\n",
       "      <td>Cambriolage de locaux résidentiels privés</td>\n",
       "      <td>17465</td>\n",
       "    </tr>\n",
       "    <tr>\n",
       "      <th>1815</th>\n",
       "      <td>2007</td>\n",
       "      <td>Northern Ireland (UK)</td>\n",
       "      <td>Nombre</td>\n",
       "      <td>Cambriolage de locaux résidentiels privés</td>\n",
       "      <td>6712</td>\n",
       "    </tr>\n",
       "    <tr>\n",
       "      <th>1819</th>\n",
       "      <td>2007</td>\n",
       "      <td>Islande</td>\n",
       "      <td>Nombre</td>\n",
       "      <td>Cambriolage de locaux résidentiels privés</td>\n",
       "      <td>2277</td>\n",
       "    </tr>\n",
       "    <tr>\n",
       "      <th>1824</th>\n",
       "      <td>2007</td>\n",
       "      <td>Liechtenstein</td>\n",
       "      <td>Nombre</td>\n",
       "      <td>Cambriolage de locaux résidentiels privés</td>\n",
       "      <td>102</td>\n",
       "    </tr>\n",
       "    <tr>\n",
       "      <th>1829</th>\n",
       "      <td>2007</td>\n",
       "      <td>Norvège</td>\n",
       "      <td>Nombre</td>\n",
       "      <td>Cambriolage de locaux résidentiels privés</td>\n",
       "      <td>6777</td>\n",
       "    </tr>\n",
       "    <tr>\n",
       "      <th>1834</th>\n",
       "      <td>2007</td>\n",
       "      <td>Suisse</td>\n",
       "      <td>Nombre</td>\n",
       "      <td>Cambriolage de locaux résidentiels privés</td>\n",
       "      <td>57493</td>\n",
       "    </tr>\n",
       "    <tr>\n",
       "      <th>1843</th>\n",
       "      <td>2007</td>\n",
       "      <td>Ancienne République yougoslave de Macédoine</td>\n",
       "      <td>Nombre</td>\n",
       "      <td>Cambriolage de locaux résidentiels privés</td>\n",
       "      <td>1590</td>\n",
       "    </tr>\n",
       "    <tr>\n",
       "      <th>1848</th>\n",
       "      <td>2007</td>\n",
       "      <td>Serbie</td>\n",
       "      <td>Nombre</td>\n",
       "      <td>Cambriolage de locaux résidentiels privés</td>\n",
       "      <td>6184</td>\n",
       "    </tr>\n",
       "    <tr>\n",
       "      <th>1853</th>\n",
       "      <td>2007</td>\n",
       "      <td>Turquie</td>\n",
       "      <td>Nombre</td>\n",
       "      <td>Cambriolage de locaux résidentiels privés</td>\n",
       "      <td>73727</td>\n",
       "    </tr>\n",
       "  </tbody>\n",
       "</table>\n",
       "</div>"
      ],
      "text/plain": [
       "      TIME                                                GEO    UNIT  \\\n",
       "1666  2007                                           Belgique  Nombre   \n",
       "1671  2007                                           Bulgarie  Nombre   \n",
       "1676  2007                                           Tchéquie  Nombre   \n",
       "1681  2007                                           Danemark  Nombre   \n",
       "1686  2007  Allemagne (jusqu'en 1990, ancien territoire de...  Nombre   \n",
       "1691  2007                                            Estonie  Nombre   \n",
       "1695  2007                                            Irlande  Nombre   \n",
       "1700  2007                                              Grèce  Nombre   \n",
       "1705  2007                                            Espagne  Nombre   \n",
       "1710  2007                                             France  Nombre   \n",
       "1715  2007                            France (métropolitaine)  Nombre   \n",
       "1720  2007                                            Croatie  Nombre   \n",
       "1725  2007                                             Italie  Nombre   \n",
       "1730  2007                                             Chypre  Nombre   \n",
       "1735  2007                                           Lettonie  Nombre   \n",
       "1740  2007                                           Lituanie  Nombre   \n",
       "1745  2007                                         Luxembourg  Nombre   \n",
       "1750  2007                                            Hongrie  Nombre   \n",
       "1755  2007                                              Malte  Nombre   \n",
       "1760  2007                                           Pays-Bas  Nombre   \n",
       "1765  2007                                           Autriche  Nombre   \n",
       "1770  2007                                            Pologne  Nombre   \n",
       "1775  2007                                           Portugal  Nombre   \n",
       "1780  2007                                           Roumanie  Nombre   \n",
       "1785  2007                                           Slovénie  Nombre   \n",
       "1790  2007                                          Slovaquie  Nombre   \n",
       "1795  2007                                           Finlande  Nombre   \n",
       "1800  2007                                              Suède  Nombre   \n",
       "1805  2007                                   England et Wales  Nombre   \n",
       "1810  2007                                           Scotland  Nombre   \n",
       "1815  2007                              Northern Ireland (UK)  Nombre   \n",
       "1819  2007                                            Islande  Nombre   \n",
       "1824  2007                                      Liechtenstein  Nombre   \n",
       "1829  2007                                            Norvège  Nombre   \n",
       "1834  2007                                             Suisse  Nombre   \n",
       "1843  2007        Ancienne République yougoslave de Macédoine  Nombre   \n",
       "1848  2007                                             Serbie  Nombre   \n",
       "1853  2007                                            Turquie  Nombre   \n",
       "\n",
       "                                           ICCS   Value  \n",
       "1666  Cambriolage de locaux résidentiels privés   62964  \n",
       "1671  Cambriolage de locaux résidentiels privés   22208  \n",
       "1676  Cambriolage de locaux résidentiels privés    9163  \n",
       "1681  Cambriolage de locaux résidentiels privés   36342  \n",
       "1686  Cambriolage de locaux résidentiels privés  109128  \n",
       "1691  Cambriolage de locaux résidentiels privés    3096  \n",
       "1695  Cambriolage de locaux résidentiels privés   23603  \n",
       "1700  Cambriolage de locaux résidentiels privés   49886  \n",
       "1705  Cambriolage de locaux résidentiels privés   72723  \n",
       "1710  Cambriolage de locaux résidentiels privés  165780  \n",
       "1715  Cambriolage de locaux résidentiels privés  165780  \n",
       "1720  Cambriolage de locaux résidentiels privés    3094  \n",
       "1725  Cambriolage de locaux résidentiels privés  169367  \n",
       "1730  Cambriolage de locaux résidentiels privés    2656  \n",
       "1735  Cambriolage de locaux résidentiels privés    3654  \n",
       "1740  Cambriolage de locaux résidentiels privés    5516  \n",
       "1745  Cambriolage de locaux résidentiels privés    2030  \n",
       "1750  Cambriolage de locaux résidentiels privés   17415  \n",
       "1755  Cambriolage de locaux résidentiels privés     735  \n",
       "1760  Cambriolage de locaux résidentiels privés   89415  \n",
       "1765  Cambriolage de locaux résidentiels privés   20040  \n",
       "1770  Cambriolage de locaux résidentiels privés   37644  \n",
       "1775  Cambriolage de locaux résidentiels privés   22324  \n",
       "1780  Cambriolage de locaux résidentiels privés   10829  \n",
       "1785  Cambriolage de locaux résidentiels privés    2282  \n",
       "1790  Cambriolage de locaux résidentiels privés    2437  \n",
       "1795  Cambriolage de locaux résidentiels privés    6532  \n",
       "1800  Cambriolage de locaux résidentiels privés   16936  \n",
       "1805  Cambriolage de locaux résidentiels privés  280696  \n",
       "1810  Cambriolage de locaux résidentiels privés   17465  \n",
       "1815  Cambriolage de locaux résidentiels privés    6712  \n",
       "1819  Cambriolage de locaux résidentiels privés    2277  \n",
       "1824  Cambriolage de locaux résidentiels privés     102  \n",
       "1829  Cambriolage de locaux résidentiels privés    6777  \n",
       "1834  Cambriolage de locaux résidentiels privés   57493  \n",
       "1843  Cambriolage de locaux résidentiels privés    1590  \n",
       "1848  Cambriolage de locaux résidentiels privés    6184  \n",
       "1853  Cambriolage de locaux résidentiels privés   73727  "
      ]
     },
     "execution_count": 10,
     "metadata": {},
     "output_type": "execute_result"
    }
   ],
   "source": [
    "crimes_rob=crimes[(crimes['ICCS']=='Cambriolage de locaux résidentiels privés')&(crimes['TIME']==2007)]\n",
    "crimes_rob"
   ]
  },
  {
   "cell_type": "code",
   "execution_count": 11,
   "metadata": {},
   "outputs": [
    {
     "data": {
      "text/plain": [
       "Value    102\n",
       "dtype: int64"
      ]
     },
     "execution_count": 11,
     "metadata": {},
     "output_type": "execute_result"
    }
   ],
   "source": [
    "crimes_rob[['Value']].min()"
   ]
  },
  {
   "cell_type": "code",
   "execution_count": 12,
   "metadata": {},
   "outputs": [
    {
     "data": {
      "text/html": [
       "<div>\n",
       "<style scoped>\n",
       "    .dataframe tbody tr th:only-of-type {\n",
       "        vertical-align: middle;\n",
       "    }\n",
       "\n",
       "    .dataframe tbody tr th {\n",
       "        vertical-align: top;\n",
       "    }\n",
       "\n",
       "    .dataframe thead th {\n",
       "        text-align: right;\n",
       "    }\n",
       "</style>\n",
       "<table border=\"1\" class=\"dataframe\">\n",
       "  <thead>\n",
       "    <tr style=\"text-align: right;\">\n",
       "      <th></th>\n",
       "      <th>TIME</th>\n",
       "      <th>GEO</th>\n",
       "      <th>UNIT</th>\n",
       "      <th>ICCS</th>\n",
       "      <th>Value</th>\n",
       "    </tr>\n",
       "  </thead>\n",
       "  <tbody>\n",
       "    <tr>\n",
       "      <th>1824</th>\n",
       "      <td>2007</td>\n",
       "      <td>Liechtenstein</td>\n",
       "      <td>Nombre</td>\n",
       "      <td>Cambriolage de locaux résidentiels privés</td>\n",
       "      <td>102</td>\n",
       "    </tr>\n",
       "  </tbody>\n",
       "</table>\n",
       "</div>"
      ],
      "text/plain": [
       "      TIME            GEO    UNIT                                       ICCS  \\\n",
       "1824  2007  Liechtenstein  Nombre  Cambriolage de locaux résidentiels privés   \n",
       "\n",
       "      Value  \n",
       "1824    102  "
      ]
     },
     "execution_count": 12,
     "metadata": {},
     "output_type": "execute_result"
    }
   ],
   "source": [
    "#crimes_rob_min=crimes_rob[crimes_rob['Value']==102]\n",
    "#crimes_rob_min\n",
    "crimes_rob_min= crimes_rob[crimes_rob['Value'].isin([102])]\n",
    "crimes_rob_min"
   ]
  },
  {
   "cell_type": "code",
   "execution_count": 13,
   "metadata": {},
   "outputs": [
    {
     "data": {
      "text/plain": [
       "Value    280696\n",
       "dtype: int64"
      ]
     },
     "execution_count": 13,
     "metadata": {},
     "output_type": "execute_result"
    }
   ],
   "source": [
    "crimes_rob[['Value']].max()"
   ]
  },
  {
   "cell_type": "code",
   "execution_count": 14,
   "metadata": {},
   "outputs": [
    {
     "data": {
      "text/html": [
       "<div>\n",
       "<style scoped>\n",
       "    .dataframe tbody tr th:only-of-type {\n",
       "        vertical-align: middle;\n",
       "    }\n",
       "\n",
       "    .dataframe tbody tr th {\n",
       "        vertical-align: top;\n",
       "    }\n",
       "\n",
       "    .dataframe thead th {\n",
       "        text-align: right;\n",
       "    }\n",
       "</style>\n",
       "<table border=\"1\" class=\"dataframe\">\n",
       "  <thead>\n",
       "    <tr style=\"text-align: right;\">\n",
       "      <th></th>\n",
       "      <th>TIME</th>\n",
       "      <th>GEO</th>\n",
       "      <th>UNIT</th>\n",
       "      <th>ICCS</th>\n",
       "      <th>Value</th>\n",
       "    </tr>\n",
       "  </thead>\n",
       "  <tbody>\n",
       "    <tr>\n",
       "      <th>1805</th>\n",
       "      <td>2007</td>\n",
       "      <td>England et Wales</td>\n",
       "      <td>Nombre</td>\n",
       "      <td>Cambriolage de locaux résidentiels privés</td>\n",
       "      <td>280696</td>\n",
       "    </tr>\n",
       "  </tbody>\n",
       "</table>\n",
       "</div>"
      ],
      "text/plain": [
       "      TIME               GEO    UNIT  \\\n",
       "1805  2007  England et Wales  Nombre   \n",
       "\n",
       "                                           ICCS   Value  \n",
       "1805  Cambriolage de locaux résidentiels privés  280696  "
      ]
     },
     "execution_count": 14,
     "metadata": {},
     "output_type": "execute_result"
    }
   ],
   "source": [
    "crimes_rob_max= crimes_rob[crimes_rob['Value'].isin([280696])]\n",
    "crimes_rob_max"
   ]
  },
  {
   "cell_type": "markdown",
   "metadata": {},
   "source": [
    "## Donnez le pays européen et l’année avec le moins de meurtres."
   ]
  },
  {
   "cell_type": "code",
   "execution_count": 15,
   "metadata": {},
   "outputs": [
    {
     "data": {
      "text/html": [
       "<div>\n",
       "<style scoped>\n",
       "    .dataframe tbody tr th:only-of-type {\n",
       "        vertical-align: middle;\n",
       "    }\n",
       "\n",
       "    .dataframe tbody tr th {\n",
       "        vertical-align: top;\n",
       "    }\n",
       "\n",
       "    .dataframe thead th {\n",
       "        text-align: right;\n",
       "    }\n",
       "</style>\n",
       "<table border=\"1\" class=\"dataframe\">\n",
       "  <thead>\n",
       "    <tr style=\"text-align: right;\">\n",
       "      <th></th>\n",
       "      <th>TIME</th>\n",
       "      <th>GEO</th>\n",
       "      <th>UNIT</th>\n",
       "      <th>ICCS</th>\n",
       "      <th>Value</th>\n",
       "    </tr>\n",
       "  </thead>\n",
       "  <tbody>\n",
       "    <tr>\n",
       "      <th>1</th>\n",
       "      <td>1998</td>\n",
       "      <td>Bulgarie</td>\n",
       "      <td>Nombre</td>\n",
       "      <td>Homicide intentionnel</td>\n",
       "      <td>381</td>\n",
       "    </tr>\n",
       "    <tr>\n",
       "      <th>5</th>\n",
       "      <td>1998</td>\n",
       "      <td>Tchéquie</td>\n",
       "      <td>Nombre</td>\n",
       "      <td>Homicide intentionnel</td>\n",
       "      <td>183</td>\n",
       "    </tr>\n",
       "    <tr>\n",
       "      <th>10</th>\n",
       "      <td>1998</td>\n",
       "      <td>Danemark</td>\n",
       "      <td>Nombre</td>\n",
       "      <td>Homicide intentionnel</td>\n",
       "      <td>60</td>\n",
       "    </tr>\n",
       "    <tr>\n",
       "      <th>15</th>\n",
       "      <td>1998</td>\n",
       "      <td>Allemagne (jusqu'en 1990, ancien territoire de...</td>\n",
       "      <td>Nombre</td>\n",
       "      <td>Homicide intentionnel</td>\n",
       "      <td>998</td>\n",
       "    </tr>\n",
       "    <tr>\n",
       "      <th>20</th>\n",
       "      <td>1998</td>\n",
       "      <td>Estonie</td>\n",
       "      <td>Nombre</td>\n",
       "      <td>Homicide intentionnel</td>\n",
       "      <td>196</td>\n",
       "    </tr>\n",
       "    <tr>\n",
       "      <th>...</th>\n",
       "      <td>...</td>\n",
       "      <td>...</td>\n",
       "      <td>...</td>\n",
       "      <td>...</td>\n",
       "      <td>...</td>\n",
       "    </tr>\n",
       "    <tr>\n",
       "      <th>1831</th>\n",
       "      <td>2007</td>\n",
       "      <td>Suisse</td>\n",
       "      <td>Nombre</td>\n",
       "      <td>Homicide intentionnel</td>\n",
       "      <td>51</td>\n",
       "    </tr>\n",
       "    <tr>\n",
       "      <th>1836</th>\n",
       "      <td>2007</td>\n",
       "      <td>Monténégro</td>\n",
       "      <td>Nombre</td>\n",
       "      <td>Homicide intentionnel</td>\n",
       "      <td>10</td>\n",
       "    </tr>\n",
       "    <tr>\n",
       "      <th>1840</th>\n",
       "      <td>2007</td>\n",
       "      <td>Ancienne République yougoslave de Macédoine</td>\n",
       "      <td>Nombre</td>\n",
       "      <td>Homicide intentionnel</td>\n",
       "      <td>42</td>\n",
       "    </tr>\n",
       "    <tr>\n",
       "      <th>1845</th>\n",
       "      <td>2007</td>\n",
       "      <td>Serbie</td>\n",
       "      <td>Nombre</td>\n",
       "      <td>Homicide intentionnel</td>\n",
       "      <td>182</td>\n",
       "    </tr>\n",
       "    <tr>\n",
       "      <th>1850</th>\n",
       "      <td>2007</td>\n",
       "      <td>Turquie</td>\n",
       "      <td>Nombre</td>\n",
       "      <td>Homicide intentionnel</td>\n",
       "      <td>3090</td>\n",
       "    </tr>\n",
       "  </tbody>\n",
       "</table>\n",
       "<p>380 rows × 5 columns</p>\n",
       "</div>"
      ],
      "text/plain": [
       "      TIME                                                GEO    UNIT  \\\n",
       "1     1998                                           Bulgarie  Nombre   \n",
       "5     1998                                           Tchéquie  Nombre   \n",
       "10    1998                                           Danemark  Nombre   \n",
       "15    1998  Allemagne (jusqu'en 1990, ancien territoire de...  Nombre   \n",
       "20    1998                                            Estonie  Nombre   \n",
       "...    ...                                                ...     ...   \n",
       "1831  2007                                             Suisse  Nombre   \n",
       "1836  2007                                         Monténégro  Nombre   \n",
       "1840  2007        Ancienne République yougoslave de Macédoine  Nombre   \n",
       "1845  2007                                             Serbie  Nombre   \n",
       "1850  2007                                            Turquie  Nombre   \n",
       "\n",
       "                       ICCS  Value  \n",
       "1     Homicide intentionnel    381  \n",
       "5     Homicide intentionnel    183  \n",
       "10    Homicide intentionnel     60  \n",
       "15    Homicide intentionnel    998  \n",
       "20    Homicide intentionnel    196  \n",
       "...                     ...    ...  \n",
       "1831  Homicide intentionnel     51  \n",
       "1836  Homicide intentionnel     10  \n",
       "1840  Homicide intentionnel     42  \n",
       "1845  Homicide intentionnel    182  \n",
       "1850  Homicide intentionnel   3090  \n",
       "\n",
       "[380 rows x 5 columns]"
      ]
     },
     "execution_count": 15,
     "metadata": {},
     "output_type": "execute_result"
    }
   ],
   "source": [
    "crimes_hom=crimes[(crimes['ICCS']=='Homicide intentionnel')]\n",
    "crimes_hom"
   ]
  },
  {
   "cell_type": "code",
   "execution_count": 16,
   "metadata": {},
   "outputs": [
    {
     "data": {
      "text/plain": [
       "0"
      ]
     },
     "execution_count": 16,
     "metadata": {},
     "output_type": "execute_result"
    }
   ],
   "source": [
    "crimes_hom['Value'].min()"
   ]
  },
  {
   "cell_type": "code",
   "execution_count": 17,
   "metadata": {},
   "outputs": [
    {
     "data": {
      "text/plain": [
       "TIME                                                  1998\n",
       "GEO      Allemagne (jusqu'en 1990, ancien territoire de...\n",
       "UNIT                                                Nombre\n",
       "ICCS                                 Homicide intentionnel\n",
       "Value                                                    1\n",
       "dtype: object"
      ]
     },
     "execution_count": 17,
     "metadata": {},
     "output_type": "execute_result"
    }
   ],
   "source": [
    "crimes_hom[crimes_hom['Value']!=0].min()"
   ]
  },
  {
   "cell_type": "code",
   "execution_count": 18,
   "metadata": {},
   "outputs": [],
   "source": [
    "#crimes_hom_mindif= crimes_hom[crimes_hom['Value'].isin([1])]\n",
    "#crimes_hom_mindif"
   ]
  },
  {
   "cell_type": "code",
   "execution_count": 19,
   "metadata": {},
   "outputs": [
    {
     "data": {
      "text/html": [
       "<div>\n",
       "<style scoped>\n",
       "    .dataframe tbody tr th:only-of-type {\n",
       "        vertical-align: middle;\n",
       "    }\n",
       "\n",
       "    .dataframe tbody tr th {\n",
       "        vertical-align: top;\n",
       "    }\n",
       "\n",
       "    .dataframe thead th {\n",
       "        text-align: right;\n",
       "    }\n",
       "</style>\n",
       "<table border=\"1\" class=\"dataframe\">\n",
       "  <thead>\n",
       "    <tr style=\"text-align: right;\">\n",
       "      <th></th>\n",
       "      <th>TIME</th>\n",
       "      <th>GEO</th>\n",
       "      <th>UNIT</th>\n",
       "      <th>ICCS</th>\n",
       "      <th>Value</th>\n",
       "    </tr>\n",
       "  </thead>\n",
       "  <tbody>\n",
       "    <tr>\n",
       "      <th>139</th>\n",
       "      <td>1998</td>\n",
       "      <td>Islande</td>\n",
       "      <td>Nombre</td>\n",
       "      <td>Homicide intentionnel</td>\n",
       "      <td>0</td>\n",
       "    </tr>\n",
       "    <tr>\n",
       "      <th>141</th>\n",
       "      <td>1998</td>\n",
       "      <td>Liechtenstein</td>\n",
       "      <td>Nombre</td>\n",
       "      <td>Homicide intentionnel</td>\n",
       "      <td>0</td>\n",
       "    </tr>\n",
       "    <tr>\n",
       "      <th>483</th>\n",
       "      <td>2000</td>\n",
       "      <td>Liechtenstein</td>\n",
       "      <td>Nombre</td>\n",
       "      <td>Homicide intentionnel</td>\n",
       "      <td>0</td>\n",
       "    </tr>\n",
       "    <tr>\n",
       "      <th>671</th>\n",
       "      <td>2001</td>\n",
       "      <td>Liechtenstein</td>\n",
       "      <td>Nombre</td>\n",
       "      <td>Homicide intentionnel</td>\n",
       "      <td>0</td>\n",
       "    </tr>\n",
       "    <tr>\n",
       "      <th>858</th>\n",
       "      <td>2002</td>\n",
       "      <td>Liechtenstein</td>\n",
       "      <td>Nombre</td>\n",
       "      <td>Homicide intentionnel</td>\n",
       "      <td>0</td>\n",
       "    </tr>\n",
       "    <tr>\n",
       "      <th>982</th>\n",
       "      <td>2003</td>\n",
       "      <td>Malte</td>\n",
       "      <td>Nombre</td>\n",
       "      <td>Homicide intentionnel</td>\n",
       "      <td>0</td>\n",
       "    </tr>\n",
       "    <tr>\n",
       "      <th>1046</th>\n",
       "      <td>2003</td>\n",
       "      <td>Islande</td>\n",
       "      <td>Nombre</td>\n",
       "      <td>Homicide intentionnel</td>\n",
       "      <td>0</td>\n",
       "    </tr>\n",
       "    <tr>\n",
       "      <th>1050</th>\n",
       "      <td>2003</td>\n",
       "      <td>Liechtenstein</td>\n",
       "      <td>Nombre</td>\n",
       "      <td>Homicide intentionnel</td>\n",
       "      <td>0</td>\n",
       "    </tr>\n",
       "    <tr>\n",
       "      <th>1436</th>\n",
       "      <td>2005</td>\n",
       "      <td>Liechtenstein</td>\n",
       "      <td>Nombre</td>\n",
       "      <td>Homicide intentionnel</td>\n",
       "      <td>0</td>\n",
       "    </tr>\n",
       "    <tr>\n",
       "      <th>1560</th>\n",
       "      <td>2006</td>\n",
       "      <td>Malte</td>\n",
       "      <td>Nombre</td>\n",
       "      <td>Homicide intentionnel</td>\n",
       "      <td>0</td>\n",
       "    </tr>\n",
       "    <tr>\n",
       "      <th>1625</th>\n",
       "      <td>2006</td>\n",
       "      <td>Islande</td>\n",
       "      <td>Nombre</td>\n",
       "      <td>Homicide intentionnel</td>\n",
       "      <td>0</td>\n",
       "    </tr>\n",
       "    <tr>\n",
       "      <th>1629</th>\n",
       "      <td>2006</td>\n",
       "      <td>Liechtenstein</td>\n",
       "      <td>Nombre</td>\n",
       "      <td>Homicide intentionnel</td>\n",
       "      <td>0</td>\n",
       "    </tr>\n",
       "    <tr>\n",
       "      <th>1821</th>\n",
       "      <td>2007</td>\n",
       "      <td>Liechtenstein</td>\n",
       "      <td>Nombre</td>\n",
       "      <td>Homicide intentionnel</td>\n",
       "      <td>0</td>\n",
       "    </tr>\n",
       "  </tbody>\n",
       "</table>\n",
       "</div>"
      ],
      "text/plain": [
       "      TIME            GEO    UNIT                   ICCS  Value\n",
       "139   1998        Islande  Nombre  Homicide intentionnel      0\n",
       "141   1998  Liechtenstein  Nombre  Homicide intentionnel      0\n",
       "483   2000  Liechtenstein  Nombre  Homicide intentionnel      0\n",
       "671   2001  Liechtenstein  Nombre  Homicide intentionnel      0\n",
       "858   2002  Liechtenstein  Nombre  Homicide intentionnel      0\n",
       "982   2003          Malte  Nombre  Homicide intentionnel      0\n",
       "1046  2003        Islande  Nombre  Homicide intentionnel      0\n",
       "1050  2003  Liechtenstein  Nombre  Homicide intentionnel      0\n",
       "1436  2005  Liechtenstein  Nombre  Homicide intentionnel      0\n",
       "1560  2006          Malte  Nombre  Homicide intentionnel      0\n",
       "1625  2006        Islande  Nombre  Homicide intentionnel      0\n",
       "1629  2006  Liechtenstein  Nombre  Homicide intentionnel      0\n",
       "1821  2007  Liechtenstein  Nombre  Homicide intentionnel      0"
      ]
     },
     "execution_count": 19,
     "metadata": {},
     "output_type": "execute_result"
    }
   ],
   "source": [
    "crimes_hom_min= crimes_hom[crimes_hom['Value'].isin([0])]\n",
    "crimes_hom_min"
   ]
  },
  {
   "cell_type": "code",
   "execution_count": 20,
   "metadata": {},
   "outputs": [
    {
     "data": {
      "text/html": [
       "<div>\n",
       "<style scoped>\n",
       "    .dataframe tbody tr th:only-of-type {\n",
       "        vertical-align: middle;\n",
       "    }\n",
       "\n",
       "    .dataframe tbody tr th {\n",
       "        vertical-align: top;\n",
       "    }\n",
       "\n",
       "    .dataframe thead th {\n",
       "        text-align: right;\n",
       "    }\n",
       "</style>\n",
       "<table border=\"1\" class=\"dataframe\">\n",
       "  <thead>\n",
       "    <tr style=\"text-align: right;\">\n",
       "      <th></th>\n",
       "      <th>TIME</th>\n",
       "      <th>GEO</th>\n",
       "      <th>UNIT</th>\n",
       "      <th>ICCS</th>\n",
       "      <th>Value</th>\n",
       "    </tr>\n",
       "  </thead>\n",
       "  <tbody>\n",
       "    <tr>\n",
       "      <th>982</th>\n",
       "      <td>2003</td>\n",
       "      <td>Malte</td>\n",
       "      <td>Nombre</td>\n",
       "      <td>Homicide intentionnel</td>\n",
       "      <td>0</td>\n",
       "    </tr>\n",
       "    <tr>\n",
       "      <th>1560</th>\n",
       "      <td>2006</td>\n",
       "      <td>Malte</td>\n",
       "      <td>Nombre</td>\n",
       "      <td>Homicide intentionnel</td>\n",
       "      <td>0</td>\n",
       "    </tr>\n",
       "  </tbody>\n",
       "</table>\n",
       "</div>"
      ],
      "text/plain": [
       "      TIME    GEO    UNIT                   ICCS  Value\n",
       "982   2003  Malte  Nombre  Homicide intentionnel      0\n",
       "1560  2006  Malte  Nombre  Homicide intentionnel      0"
      ]
     },
     "execution_count": 20,
     "metadata": {},
     "output_type": "execute_result"
    }
   ],
   "source": [
    "hom_min_eu=crimes_hom_min[crimes_hom_min['GEO'].isin(['Malte'])]\n",
    "hom_min_eu"
   ]
  },
  {
   "cell_type": "code",
   "execution_count": 21,
   "metadata": {},
   "outputs": [
    {
     "data": {
      "text/html": [
       "<div>\n",
       "<style scoped>\n",
       "    .dataframe tbody tr th:only-of-type {\n",
       "        vertical-align: middle;\n",
       "    }\n",
       "\n",
       "    .dataframe tbody tr th {\n",
       "        vertical-align: top;\n",
       "    }\n",
       "\n",
       "    .dataframe thead th {\n",
       "        text-align: right;\n",
       "    }\n",
       "</style>\n",
       "<table border=\"1\" class=\"dataframe\">\n",
       "  <thead>\n",
       "    <tr style=\"text-align: right;\">\n",
       "      <th></th>\n",
       "      <th>TIME</th>\n",
       "      <th>GEO</th>\n",
       "      <th>Value</th>\n",
       "    </tr>\n",
       "  </thead>\n",
       "  <tbody>\n",
       "    <tr>\n",
       "      <th>982</th>\n",
       "      <td>2003</td>\n",
       "      <td>Malte</td>\n",
       "      <td>0</td>\n",
       "    </tr>\n",
       "    <tr>\n",
       "      <th>1560</th>\n",
       "      <td>2006</td>\n",
       "      <td>Malte</td>\n",
       "      <td>0</td>\n",
       "    </tr>\n",
       "  </tbody>\n",
       "</table>\n",
       "</div>"
      ],
      "text/plain": [
       "      TIME    GEO  Value\n",
       "982   2003  Malte      0\n",
       "1560  2006  Malte      0"
      ]
     },
     "execution_count": 21,
     "metadata": {},
     "output_type": "execute_result"
    }
   ],
   "source": [
    "hom_min_eu[['TIME','GEO','Value']]"
   ]
  },
  {
   "cell_type": "markdown",
   "metadata": {},
   "source": [
    "## Donnez le pays européen avec le moins de meurtres cumulés (année)."
   ]
  },
  {
   "cell_type": "code",
   "execution_count": 22,
   "metadata": {},
   "outputs": [
    {
     "data": {
      "text/html": [
       "<div>\n",
       "<style scoped>\n",
       "    .dataframe tbody tr th:only-of-type {\n",
       "        vertical-align: middle;\n",
       "    }\n",
       "\n",
       "    .dataframe tbody tr th {\n",
       "        vertical-align: top;\n",
       "    }\n",
       "\n",
       "    .dataframe thead th {\n",
       "        text-align: right;\n",
       "    }\n",
       "</style>\n",
       "<table border=\"1\" class=\"dataframe\">\n",
       "  <thead>\n",
       "    <tr style=\"text-align: right;\">\n",
       "      <th></th>\n",
       "      <th>TIME</th>\n",
       "      <th>GEO</th>\n",
       "      <th>UNIT</th>\n",
       "      <th>ICCS</th>\n",
       "      <th>Value</th>\n",
       "    </tr>\n",
       "  </thead>\n",
       "  <tbody>\n",
       "    <tr>\n",
       "      <th>1</th>\n",
       "      <td>1998</td>\n",
       "      <td>Bulgarie</td>\n",
       "      <td>Nombre</td>\n",
       "      <td>Homicide intentionnel</td>\n",
       "      <td>381</td>\n",
       "    </tr>\n",
       "    <tr>\n",
       "      <th>5</th>\n",
       "      <td>1998</td>\n",
       "      <td>Tchéquie</td>\n",
       "      <td>Nombre</td>\n",
       "      <td>Homicide intentionnel</td>\n",
       "      <td>183</td>\n",
       "    </tr>\n",
       "    <tr>\n",
       "      <th>10</th>\n",
       "      <td>1998</td>\n",
       "      <td>Danemark</td>\n",
       "      <td>Nombre</td>\n",
       "      <td>Homicide intentionnel</td>\n",
       "      <td>60</td>\n",
       "    </tr>\n",
       "    <tr>\n",
       "      <th>15</th>\n",
       "      <td>1998</td>\n",
       "      <td>Allemagne (jusqu'en 1990, ancien territoire de...</td>\n",
       "      <td>Nombre</td>\n",
       "      <td>Homicide intentionnel</td>\n",
       "      <td>998</td>\n",
       "    </tr>\n",
       "    <tr>\n",
       "      <th>20</th>\n",
       "      <td>1998</td>\n",
       "      <td>Estonie</td>\n",
       "      <td>Nombre</td>\n",
       "      <td>Homicide intentionnel</td>\n",
       "      <td>196</td>\n",
       "    </tr>\n",
       "    <tr>\n",
       "      <th>...</th>\n",
       "      <td>...</td>\n",
       "      <td>...</td>\n",
       "      <td>...</td>\n",
       "      <td>...</td>\n",
       "      <td>...</td>\n",
       "    </tr>\n",
       "    <tr>\n",
       "      <th>1831</th>\n",
       "      <td>2007</td>\n",
       "      <td>Suisse</td>\n",
       "      <td>Nombre</td>\n",
       "      <td>Homicide intentionnel</td>\n",
       "      <td>51</td>\n",
       "    </tr>\n",
       "    <tr>\n",
       "      <th>1836</th>\n",
       "      <td>2007</td>\n",
       "      <td>Monténégro</td>\n",
       "      <td>Nombre</td>\n",
       "      <td>Homicide intentionnel</td>\n",
       "      <td>10</td>\n",
       "    </tr>\n",
       "    <tr>\n",
       "      <th>1840</th>\n",
       "      <td>2007</td>\n",
       "      <td>Ancienne République yougoslave de Macédoine</td>\n",
       "      <td>Nombre</td>\n",
       "      <td>Homicide intentionnel</td>\n",
       "      <td>42</td>\n",
       "    </tr>\n",
       "    <tr>\n",
       "      <th>1845</th>\n",
       "      <td>2007</td>\n",
       "      <td>Serbie</td>\n",
       "      <td>Nombre</td>\n",
       "      <td>Homicide intentionnel</td>\n",
       "      <td>182</td>\n",
       "    </tr>\n",
       "    <tr>\n",
       "      <th>1850</th>\n",
       "      <td>2007</td>\n",
       "      <td>Turquie</td>\n",
       "      <td>Nombre</td>\n",
       "      <td>Homicide intentionnel</td>\n",
       "      <td>3090</td>\n",
       "    </tr>\n",
       "  </tbody>\n",
       "</table>\n",
       "<p>380 rows × 5 columns</p>\n",
       "</div>"
      ],
      "text/plain": [
       "      TIME                                                GEO    UNIT  \\\n",
       "1     1998                                           Bulgarie  Nombre   \n",
       "5     1998                                           Tchéquie  Nombre   \n",
       "10    1998                                           Danemark  Nombre   \n",
       "15    1998  Allemagne (jusqu'en 1990, ancien territoire de...  Nombre   \n",
       "20    1998                                            Estonie  Nombre   \n",
       "...    ...                                                ...     ...   \n",
       "1831  2007                                             Suisse  Nombre   \n",
       "1836  2007                                         Monténégro  Nombre   \n",
       "1840  2007        Ancienne République yougoslave de Macédoine  Nombre   \n",
       "1845  2007                                             Serbie  Nombre   \n",
       "1850  2007                                            Turquie  Nombre   \n",
       "\n",
       "                       ICCS  Value  \n",
       "1     Homicide intentionnel    381  \n",
       "5     Homicide intentionnel    183  \n",
       "10    Homicide intentionnel     60  \n",
       "15    Homicide intentionnel    998  \n",
       "20    Homicide intentionnel    196  \n",
       "...                     ...    ...  \n",
       "1831  Homicide intentionnel     51  \n",
       "1836  Homicide intentionnel     10  \n",
       "1840  Homicide intentionnel     42  \n",
       "1845  Homicide intentionnel    182  \n",
       "1850  Homicide intentionnel   3090  \n",
       "\n",
       "[380 rows x 5 columns]"
      ]
     },
     "execution_count": 22,
     "metadata": {},
     "output_type": "execute_result"
    }
   ],
   "source": [
    "crimes_hom"
   ]
  },
  {
   "cell_type": "code",
   "execution_count": 23,
   "metadata": {},
   "outputs": [
    {
     "data": {
      "text/html": [
       "<div>\n",
       "<style scoped>\n",
       "    .dataframe tbody tr th:only-of-type {\n",
       "        vertical-align: middle;\n",
       "    }\n",
       "\n",
       "    .dataframe tbody tr th {\n",
       "        vertical-align: top;\n",
       "    }\n",
       "\n",
       "    .dataframe thead th {\n",
       "        text-align: right;\n",
       "    }\n",
       "</style>\n",
       "<table border=\"1\" class=\"dataframe\">\n",
       "  <thead>\n",
       "    <tr style=\"text-align: right;\">\n",
       "      <th></th>\n",
       "      <th>Value</th>\n",
       "    </tr>\n",
       "    <tr>\n",
       "      <th>GEO</th>\n",
       "      <th></th>\n",
       "    </tr>\n",
       "  </thead>\n",
       "  <tbody>\n",
       "    <tr>\n",
       "      <th>Allemagne (jusqu'en 1990, ancien territoire de la RFA)</th>\n",
       "      <td>9074</td>\n",
       "    </tr>\n",
       "    <tr>\n",
       "      <th>Ancienne République yougoslave de Macédoine</th>\n",
       "      <td>421</td>\n",
       "    </tr>\n",
       "    <tr>\n",
       "      <th>Autriche</th>\n",
       "      <td>622</td>\n",
       "    </tr>\n",
       "    <tr>\n",
       "      <th>Belgique</th>\n",
       "      <td>1969</td>\n",
       "    </tr>\n",
       "    <tr>\n",
       "      <th>Bulgarie</th>\n",
       "      <td>2638</td>\n",
       "    </tr>\n",
       "    <tr>\n",
       "      <th>Chypre</th>\n",
       "      <td>103</td>\n",
       "    </tr>\n",
       "    <tr>\n",
       "      <th>Croatie</th>\n",
       "      <td>919</td>\n",
       "    </tr>\n",
       "    <tr>\n",
       "      <th>Danemark</th>\n",
       "      <td>660</td>\n",
       "    </tr>\n",
       "    <tr>\n",
       "      <th>England et Wales</th>\n",
       "      <td>8373</td>\n",
       "    </tr>\n",
       "    <tr>\n",
       "      <th>Espagne</th>\n",
       "      <td>5285</td>\n",
       "    </tr>\n",
       "    <tr>\n",
       "      <th>Estonie</th>\n",
       "      <td>1310</td>\n",
       "    </tr>\n",
       "    <tr>\n",
       "      <th>Finlande</th>\n",
       "      <td>1292</td>\n",
       "    </tr>\n",
       "    <tr>\n",
       "      <th>France</th>\n",
       "      <td>9788</td>\n",
       "    </tr>\n",
       "    <tr>\n",
       "      <th>France (métropolitaine)</th>\n",
       "      <td>9788</td>\n",
       "    </tr>\n",
       "    <tr>\n",
       "      <th>Grèce</th>\n",
       "      <td>1300</td>\n",
       "    </tr>\n",
       "    <tr>\n",
       "      <th>Hongrie</th>\n",
       "      <td>2117</td>\n",
       "    </tr>\n",
       "    <tr>\n",
       "      <th>Irlande</th>\n",
       "      <td>588</td>\n",
       "    </tr>\n",
       "    <tr>\n",
       "      <th>Islande</th>\n",
       "      <td>20</td>\n",
       "    </tr>\n",
       "    <tr>\n",
       "      <th>Italie</th>\n",
       "      <td>7574</td>\n",
       "    </tr>\n",
       "    <tr>\n",
       "      <th>Lettonie</th>\n",
       "      <td>1903</td>\n",
       "    </tr>\n",
       "    <tr>\n",
       "      <th>Liechtenstein</th>\n",
       "      <td>2</td>\n",
       "    </tr>\n",
       "    <tr>\n",
       "      <th>Lituanie</th>\n",
       "      <td>3509</td>\n",
       "    </tr>\n",
       "    <tr>\n",
       "      <th>Luxembourg</th>\n",
       "      <td>49</td>\n",
       "    </tr>\n",
       "    <tr>\n",
       "      <th>Malte</th>\n",
       "      <td>44</td>\n",
       "    </tr>\n",
       "    <tr>\n",
       "      <th>Monténégro</th>\n",
       "      <td>118</td>\n",
       "    </tr>\n",
       "    <tr>\n",
       "      <th>Northern Ireland (UK)</th>\n",
       "      <td>411</td>\n",
       "    </tr>\n",
       "    <tr>\n",
       "      <th>Norvège</th>\n",
       "      <td>385</td>\n",
       "    </tr>\n",
       "    <tr>\n",
       "      <th>Pays-Bas</th>\n",
       "      <td>1794</td>\n",
       "    </tr>\n",
       "    <tr>\n",
       "      <th>Pologne</th>\n",
       "      <td>6713</td>\n",
       "    </tr>\n",
       "    <tr>\n",
       "      <th>Portugal</th>\n",
       "      <td>1342</td>\n",
       "    </tr>\n",
       "    <tr>\n",
       "      <th>Roumanie</th>\n",
       "      <td>5240</td>\n",
       "    </tr>\n",
       "    <tr>\n",
       "      <th>Scotland</th>\n",
       "      <td>1143</td>\n",
       "    </tr>\n",
       "    <tr>\n",
       "      <th>Serbie</th>\n",
       "      <td>1510</td>\n",
       "    </tr>\n",
       "    <tr>\n",
       "      <th>Slovaquie</th>\n",
       "      <td>1221</td>\n",
       "    </tr>\n",
       "    <tr>\n",
       "      <th>Slovénie</th>\n",
       "      <td>226</td>\n",
       "    </tr>\n",
       "    <tr>\n",
       "      <th>Suisse</th>\n",
       "      <td>744</td>\n",
       "    </tr>\n",
       "    <tr>\n",
       "      <th>Suède</th>\n",
       "      <td>934</td>\n",
       "    </tr>\n",
       "    <tr>\n",
       "      <th>Tchéquie</th>\n",
       "      <td>1500</td>\n",
       "    </tr>\n",
       "    <tr>\n",
       "      <th>Turquie</th>\n",
       "      <td>50626</td>\n",
       "    </tr>\n",
       "  </tbody>\n",
       "</table>\n",
       "</div>"
      ],
      "text/plain": [
       "                                                    Value\n",
       "GEO                                                      \n",
       "Allemagne (jusqu'en 1990, ancien territoire de ...   9074\n",
       "Ancienne République yougoslave de Macédoine           421\n",
       "Autriche                                              622\n",
       "Belgique                                             1969\n",
       "Bulgarie                                             2638\n",
       "Chypre                                                103\n",
       "Croatie                                               919\n",
       "Danemark                                              660\n",
       "England et Wales                                     8373\n",
       "Espagne                                              5285\n",
       "Estonie                                              1310\n",
       "Finlande                                             1292\n",
       "France                                               9788\n",
       "France (métropolitaine)                              9788\n",
       "Grèce                                                1300\n",
       "Hongrie                                              2117\n",
       "Irlande                                               588\n",
       "Islande                                                20\n",
       "Italie                                               7574\n",
       "Lettonie                                             1903\n",
       "Liechtenstein                                           2\n",
       "Lituanie                                             3509\n",
       "Luxembourg                                             49\n",
       "Malte                                                  44\n",
       "Monténégro                                            118\n",
       "Northern Ireland (UK)                                 411\n",
       "Norvège                                               385\n",
       "Pays-Bas                                             1794\n",
       "Pologne                                              6713\n",
       "Portugal                                             1342\n",
       "Roumanie                                             5240\n",
       "Scotland                                             1143\n",
       "Serbie                                               1510\n",
       "Slovaquie                                            1221\n",
       "Slovénie                                              226\n",
       "Suisse                                                744\n",
       "Suède                                                 934\n",
       "Tchéquie                                             1500\n",
       "Turquie                                             50626"
      ]
     },
     "execution_count": 23,
     "metadata": {},
     "output_type": "execute_result"
    }
   ],
   "source": [
    "crimes_hom.groupby('GEO')[['Value']].sum()"
   ]
  },
  {
   "cell_type": "code",
   "execution_count": 24,
   "metadata": {},
   "outputs": [
    {
     "data": {
      "text/plain": [
       "Value    2\n",
       "dtype: int64"
      ]
     },
     "execution_count": 24,
     "metadata": {},
     "output_type": "execute_result"
    }
   ],
   "source": [
    "crimes_hom.groupby('GEO')[['Value']].sum().min()"
   ]
  },
  {
   "cell_type": "code",
   "execution_count": 25,
   "metadata": {},
   "outputs": [
    {
     "data": {
      "text/html": [
       "<div>\n",
       "<style scoped>\n",
       "    .dataframe tbody tr th:only-of-type {\n",
       "        vertical-align: middle;\n",
       "    }\n",
       "\n",
       "    .dataframe tbody tr th {\n",
       "        vertical-align: top;\n",
       "    }\n",
       "\n",
       "    .dataframe thead th {\n",
       "        text-align: right;\n",
       "    }\n",
       "</style>\n",
       "<table border=\"1\" class=\"dataframe\">\n",
       "  <thead>\n",
       "    <tr style=\"text-align: right;\">\n",
       "      <th></th>\n",
       "      <th>Value</th>\n",
       "    </tr>\n",
       "    <tr>\n",
       "      <th>GEO</th>\n",
       "      <th></th>\n",
       "    </tr>\n",
       "  </thead>\n",
       "  <tbody>\n",
       "    <tr>\n",
       "      <th>Liechtenstein</th>\n",
       "      <td>2</td>\n",
       "    </tr>\n",
       "  </tbody>\n",
       "</table>\n",
       "</div>"
      ],
      "text/plain": [
       "               Value\n",
       "GEO                 \n",
       "Liechtenstein      2"
      ]
     },
     "execution_count": 25,
     "metadata": {},
     "output_type": "execute_result"
    }
   ],
   "source": [
    "countrie_minus_crimes =crimes_hom.groupby('GEO')[['Value']].sum()\n",
    "countrie_minus_crimes[countrie_minus_crimes['Value'].isin([2])]"
   ]
  },
  {
   "cell_type": "markdown",
   "metadata": {},
   "source": [
    "## Dans quels pays risque-t-on le plus et le moins d’être blessé. (2 requêtes)"
   ]
  },
  {
   "cell_type": "markdown",
   "metadata": {},
   "source": [
    "### ///TO do : \n",
    "comparatif pop (2008) =>calculer pop 2007 et crimes en 2007\n",
    "nombre de crimes par habitants\n"
   ]
  },
  {
   "cell_type": "markdown",
   "metadata": {},
   "source": [
    "### Population en europe en 2007"
   ]
  },
  {
   "cell_type": "code",
   "execution_count": 26,
   "metadata": {},
   "outputs": [],
   "source": [
    "import numpy as np"
   ]
  },
  {
   "cell_type": "code",
   "execution_count": 27,
   "metadata": {},
   "outputs": [
    {
     "name": "stderr",
     "output_type": "stream",
     "text": [
      "C:\\Users\\Admin\\AppData\\Local\\Temp\\ipykernel_16292\\621356723.py:5: SettingWithCopyWarning: \n",
      "A value is trying to be set on a copy of a slice from a DataFrame.\n",
      "Try using .loc[row_indexer,col_indexer] = value instead\n",
      "\n",
      "See the caveats in the documentation: https://pandas.pydata.org/pandas-docs/stable/user_guide/indexing.html#returning-a-view-versus-a-copy\n",
      "  eurofilt['Value'] = np.array(int(str(i).replace('.','')) for i in eurofilt['Value'])\n",
      "C:\\Users\\Admin\\AppData\\Local\\Temp\\ipykernel_16292\\621356723.py:6: SettingWithCopyWarning: \n",
      "A value is trying to be set on a copy of a slice from a DataFrame.\n",
      "Try using .loc[row_indexer,col_indexer] = value instead\n",
      "\n",
      "See the caveats in the documentation: https://pandas.pydata.org/pandas-docs/stable/user_guide/indexing.html#returning-a-view-versus-a-copy\n",
      "  eurofilt['Value']= eurofilt['Value'].astype(\"int\")\n"
     ]
    },
    {
     "data": {
      "text/html": [
       "<div>\n",
       "<style scoped>\n",
       "    .dataframe tbody tr th:only-of-type {\n",
       "        vertical-align: middle;\n",
       "    }\n",
       "\n",
       "    .dataframe tbody tr th {\n",
       "        vertical-align: top;\n",
       "    }\n",
       "\n",
       "    .dataframe thead th {\n",
       "        text-align: right;\n",
       "    }\n",
       "</style>\n",
       "<table border=\"1\" class=\"dataframe\">\n",
       "  <thead>\n",
       "    <tr style=\"text-align: right;\">\n",
       "      <th></th>\n",
       "      <th>TIME</th>\n",
       "      <th>GEO</th>\n",
       "      <th>AGE</th>\n",
       "      <th>SEX</th>\n",
       "      <th>UNIT</th>\n",
       "      <th>Value</th>\n",
       "      <th>Flag and Footnotes</th>\n",
       "    </tr>\n",
       "  </thead>\n",
       "  <tbody>\n",
       "    <tr>\n",
       "      <th>0</th>\n",
       "      <td>2008</td>\n",
       "      <td>Union europ�enne (composition actuelle)</td>\n",
       "      <td>Total</td>\n",
       "      <td>Total</td>\n",
       "      <td>Nombre</td>\n",
       "      <td>500297033</td>\n",
       "      <td>b</td>\n",
       "    </tr>\n",
       "    <tr>\n",
       "      <th>1</th>\n",
       "      <td>2008</td>\n",
       "      <td>Union europ�enne (avant l'accession de la Croa...</td>\n",
       "      <td>Total</td>\n",
       "      <td>Total</td>\n",
       "      <td>Nombre</td>\n",
       "      <td>495985066</td>\n",
       "      <td>b</td>\n",
       "    </tr>\n",
       "    <tr>\n",
       "      <th>2</th>\n",
       "      <td>2008</td>\n",
       "      <td>Zone euro (19 pays)</td>\n",
       "      <td>Total</td>\n",
       "      <td>Total</td>\n",
       "      <td>Nombre</td>\n",
       "      <td>333096775</td>\n",
       "      <td>b</td>\n",
       "    </tr>\n",
       "    <tr>\n",
       "      <th>3</th>\n",
       "      <td>2008</td>\n",
       "      <td>Zone euro (18 pays)</td>\n",
       "      <td>Total</td>\n",
       "      <td>Total</td>\n",
       "      <td>Nombre</td>\n",
       "      <td>329884170</td>\n",
       "      <td>b</td>\n",
       "    </tr>\n",
       "    <tr>\n",
       "      <th>4</th>\n",
       "      <td>2008</td>\n",
       "      <td>Belgique</td>\n",
       "      <td>Total</td>\n",
       "      <td>Total</td>\n",
       "      <td>Nombre</td>\n",
       "      <td>10666866</td>\n",
       "      <td>NaN</td>\n",
       "    </tr>\n",
       "    <tr>\n",
       "      <th>...</th>\n",
       "      <td>...</td>\n",
       "      <td>...</td>\n",
       "      <td>...</td>\n",
       "      <td>...</td>\n",
       "      <td>...</td>\n",
       "      <td>...</td>\n",
       "      <td>...</td>\n",
       "    </tr>\n",
       "    <tr>\n",
       "      <th>572</th>\n",
       "      <td>2017</td>\n",
       "      <td>Moldavie</td>\n",
       "      <td>Total</td>\n",
       "      <td>Total</td>\n",
       "      <td>Nombre</td>\n",
       "      <td>3550852</td>\n",
       "      <td>NaN</td>\n",
       "    </tr>\n",
       "    <tr>\n",
       "      <th>576</th>\n",
       "      <td>2017</td>\n",
       "      <td>Ukraine</td>\n",
       "      <td>Total</td>\n",
       "      <td>Total</td>\n",
       "      <td>Nombre</td>\n",
       "      <td>42414905</td>\n",
       "      <td>NaN</td>\n",
       "    </tr>\n",
       "    <tr>\n",
       "      <th>577</th>\n",
       "      <td>2017</td>\n",
       "      <td>Arm�nie</td>\n",
       "      <td>Total</td>\n",
       "      <td>Total</td>\n",
       "      <td>Nombre</td>\n",
       "      <td>2986151</td>\n",
       "      <td>NaN</td>\n",
       "    </tr>\n",
       "    <tr>\n",
       "      <th>578</th>\n",
       "      <td>2017</td>\n",
       "      <td>Azerba�djan</td>\n",
       "      <td>Total</td>\n",
       "      <td>Total</td>\n",
       "      <td>Nombre</td>\n",
       "      <td>9809981</td>\n",
       "      <td>NaN</td>\n",
       "    </tr>\n",
       "    <tr>\n",
       "      <th>579</th>\n",
       "      <td>2017</td>\n",
       "      <td>G�orgie</td>\n",
       "      <td>Total</td>\n",
       "      <td>Total</td>\n",
       "      <td>Nombre</td>\n",
       "      <td>3718200</td>\n",
       "      <td>NaN</td>\n",
       "    </tr>\n",
       "  </tbody>\n",
       "</table>\n",
       "<p>540 rows × 7 columns</p>\n",
       "</div>"
      ],
      "text/plain": [
       "     TIME                                                GEO    AGE    SEX  \\\n",
       "0    2008            Union europ�enne (composition actuelle)  Total  Total   \n",
       "1    2008  Union europ�enne (avant l'accession de la Croa...  Total  Total   \n",
       "2    2008                                Zone euro (19 pays)  Total  Total   \n",
       "3    2008                                Zone euro (18 pays)  Total  Total   \n",
       "4    2008                                           Belgique  Total  Total   \n",
       "..    ...                                                ...    ...    ...   \n",
       "572  2017                                           Moldavie  Total  Total   \n",
       "576  2017                                            Ukraine  Total  Total   \n",
       "577  2017                                            Arm�nie  Total  Total   \n",
       "578  2017                                        Azerba�djan  Total  Total   \n",
       "579  2017                                            G�orgie  Total  Total   \n",
       "\n",
       "       UNIT      Value Flag and Footnotes  \n",
       "0    Nombre  500297033                  b  \n",
       "1    Nombre  495985066                  b  \n",
       "2    Nombre  333096775                  b  \n",
       "3    Nombre  329884170                  b  \n",
       "4    Nombre   10666866                NaN  \n",
       "..      ...        ...                ...  \n",
       "572  Nombre    3550852                NaN  \n",
       "576  Nombre   42414905                NaN  \n",
       "577  Nombre    2986151                NaN  \n",
       "578  Nombre    9809981                NaN  \n",
       "579  Nombre    3718200                NaN  \n",
       "\n",
       "[540 rows x 7 columns]"
      ]
     },
     "execution_count": 27,
     "metadata": {},
     "output_type": "execute_result"
    }
   ],
   "source": [
    "europpop = pd.read_csv('pop1.csv')\n",
    "eurofilt=europpop\n",
    "eurofilt = eurofilt[eurofilt['Value']!=':']\n",
    "\n",
    "eurofilt['Value'] = np.array(int(str(i).replace('.','')) for i in eurofilt['Value'])\n",
    "eurofilt['Value']= eurofilt['Value'].astype(\"int\")\n",
    "#eurofilt['Value'] \n",
    "eurofilt"
   ]
  },
  {
   "cell_type": "code",
   "execution_count": 28,
   "metadata": {},
   "outputs": [],
   "source": [
    " countries = [\"Allemagne incluant l'ancienne RDA\", 'Autriche', 'Belgique', 'Espagne', 'Finlande', 'France',\n",
    "              'Irlande', 'Italie', 'Luxembourg', 'Pays-Bas', 'Portugal', 'Gr�ce',\n",
    "              'Slov�nie', 'Chypre', 'Malte', 'Slovaquie', 'Estonie', 'Lettonie', 'Lituanie']"
   ]
  },
  {
   "cell_type": "code",
   "execution_count": 29,
   "metadata": {},
   "outputs": [
    {
     "data": {
      "text/plain": [
       "{0: {'name': \"Allemagne incluant l'ancienne RDA\",\n",
       "  '2050': 82002231,\n",
       "  '2040': 81835196,\n",
       "  '2007': 81283980},\n",
       " 1: {'name': 'Autriche', '2050': 10377350, '2040': 9871279, '2007': 8201243},\n",
       " 2: {'name': 'Belgique', '2050': 13932700, '2040': 13165454, '2007': 10633546},\n",
       " 3: {'name': 'Espagne', '2050': 48362214, '2040': 47853303, '2007': 46173899},\n",
       " 4: {'name': 'Finlande', '2050': 6274801, '2040': 6044055, '2007': 5282597},\n",
       " 5: {'name': 'France', '2050': 78158068, '2040': 74782327, '2007': 63642383},\n",
       " 6: {'name': 'Irlande', '2050': 5802622, '2040': 5485245, '2007': 4437904},\n",
       " 7: {'name': 'Italie', '2050': 69279414, '2040': 66754797, '2007': 58423560},\n",
       " 8: {'name': 'Luxembourg', '2050': 981269, '2040': 861801, '2007': 467557},\n",
       " 9: {'name': 'Pays-Bas', '2050': 19409682, '2040': 18698368, '2007': 16351031},\n",
       " 10: {'name': 'Portugal', '2050': 9285813, '2040': 9602803, '2007': 10648871},\n",
       " 11: {'name': 'Gr�ce', '2050': 9439202, '2040': 9850752, '2007': 11208867},\n",
       " 12: {'name': 'Slov�nie', '2050': 2241478, '2040': 2190635, '2007': 2022851},\n",
       " 13: {'name': 'Chypre', '2050': 1124066, '2040': 1047466, '2007': 794687},\n",
       " 14: {'name': 'Malte', '2050': 637037, '2040': 580964, '2007': 395925},\n",
       " 15: {'name': 'Slovaquie', '2050': 5649215, '2040': 5584234, '2007': 5369797},\n",
       " 16: {'name': 'Estonie', '2050': 1214823, '2040': 1244065, '2007': 1340561},\n",
       " 17: {'name': 'Lettonie', '2050': 1042315, '2040': 1311698, '2007': 2200663},\n",
       " 18: {'name': 'Lituanie', '2050': 1468583, '2040': 1881435, '2007': 3243845}}"
      ]
     },
     "execution_count": 29,
     "metadata": {},
     "output_type": "execute_result"
    }
   ],
   "source": [
    "europexpect = {}\n",
    "\n",
    "for i in range(len(countries)):\n",
    "    df = eurofilt[['GEO','TIME','Value']][(eurofilt['GEO']==countries[i])]\n",
    "\n",
    "    X = np.array(df['Value']) \n",
    "    y = np.array(df['TIME'])\n",
    "\n",
    "    P = np.polyfit(y,X,1)\n",
    "    \n",
    "    infivety= 2050 \n",
    "    infourty =2040\n",
    "    inseven=2007\n",
    "    resfiv = int(P[0]*infivety+P[1])\n",
    "    resfour =int(P[0]*infourty+P[1])\n",
    "    ressev =int(P[0]*inseven+P[1])\n",
    "    \n",
    "    target={'name':countries[i],'2050':resfiv,'2040':resfour,'2007':ressev}\n",
    "    \n",
    "    #europexpect[countries[i]]=[resfiv,resfour]\n",
    "    europexpect[i]=target\n",
    "europexpect"
   ]
  },
  {
   "cell_type": "markdown",
   "metadata": {},
   "source": [
    "### Nombre de crimes par habitants en 2007 dans la zone euro des 19"
   ]
  },
  {
   "cell_type": "code",
   "execution_count": 30,
   "metadata": {},
   "outputs": [
    {
     "name": "stdout",
     "output_type": "stream",
     "text": [
      "Allemagne incluant l'ancienne RDA 81283980\n",
      "Autriche 8201243\n",
      "Belgique 10633546\n",
      "Espagne 46173899\n",
      "Finlande 5282597\n",
      "France 63642383\n",
      "Irlande 4437904\n",
      "Italie 58423560\n",
      "Luxembourg 467557\n",
      "Pays-Bas 16351031\n",
      "Portugal 10648871\n",
      "Gr�ce 11208867\n",
      "Slov�nie 2022851\n",
      "Chypre 794687\n",
      "Malte 395925\n",
      "Slovaquie 5369797\n",
      "Estonie 1340561\n",
      "Lettonie 2200663\n",
      "Lituanie 3243845\n"
     ]
    }
   ],
   "source": [
    "for i in range(19):\n",
    "    print(europexpect[i]['name'],europexpect[i]['2007'])"
   ]
  },
  {
   "cell_type": "code",
   "execution_count": 31,
   "metadata": {},
   "outputs": [
    {
     "data": {
      "text/html": [
       "<div>\n",
       "<style scoped>\n",
       "    .dataframe tbody tr th:only-of-type {\n",
       "        vertical-align: middle;\n",
       "    }\n",
       "\n",
       "    .dataframe tbody tr th {\n",
       "        vertical-align: top;\n",
       "    }\n",
       "\n",
       "    .dataframe thead th {\n",
       "        text-align: right;\n",
       "    }\n",
       "</style>\n",
       "<table border=\"1\" class=\"dataframe\">\n",
       "  <thead>\n",
       "    <tr style=\"text-align: right;\">\n",
       "      <th></th>\n",
       "      <th>TIME</th>\n",
       "      <th>GEO</th>\n",
       "      <th>UNIT</th>\n",
       "      <th>ICCS</th>\n",
       "      <th>Value</th>\n",
       "    </tr>\n",
       "  </thead>\n",
       "  <tbody>\n",
       "    <tr>\n",
       "      <th>1662</th>\n",
       "      <td>2007</td>\n",
       "      <td>Belgique</td>\n",
       "      <td>Nombre</td>\n",
       "      <td>Total</td>\n",
       "      <td>1034430</td>\n",
       "    </tr>\n",
       "    <tr>\n",
       "      <th>1667</th>\n",
       "      <td>2007</td>\n",
       "      <td>Bulgarie</td>\n",
       "      <td>Nombre</td>\n",
       "      <td>Total</td>\n",
       "      <td>134685</td>\n",
       "    </tr>\n",
       "    <tr>\n",
       "      <th>1672</th>\n",
       "      <td>2007</td>\n",
       "      <td>Tchéquie</td>\n",
       "      <td>Nombre</td>\n",
       "      <td>Total</td>\n",
       "      <td>357391</td>\n",
       "    </tr>\n",
       "    <tr>\n",
       "      <th>1677</th>\n",
       "      <td>2007</td>\n",
       "      <td>Danemark</td>\n",
       "      <td>Nombre</td>\n",
       "      <td>Total</td>\n",
       "      <td>445271</td>\n",
       "    </tr>\n",
       "    <tr>\n",
       "      <th>1682</th>\n",
       "      <td>2007</td>\n",
       "      <td>Allemagne (jusqu'en 1990, ancien territoire de...</td>\n",
       "      <td>Nombre</td>\n",
       "      <td>Total</td>\n",
       "      <td>6284661</td>\n",
       "    </tr>\n",
       "    <tr>\n",
       "      <th>1687</th>\n",
       "      <td>2007</td>\n",
       "      <td>Estonie</td>\n",
       "      <td>Nombre</td>\n",
       "      <td>Total</td>\n",
       "      <td>50375</td>\n",
       "    </tr>\n",
       "    <tr>\n",
       "      <th>1696</th>\n",
       "      <td>2007</td>\n",
       "      <td>Grèce</td>\n",
       "      <td>Nombre</td>\n",
       "      <td>Total</td>\n",
       "      <td>423422</td>\n",
       "    </tr>\n",
       "    <tr>\n",
       "      <th>1701</th>\n",
       "      <td>2007</td>\n",
       "      <td>Espagne</td>\n",
       "      <td>Nombre</td>\n",
       "      <td>Total</td>\n",
       "      <td>2309859</td>\n",
       "    </tr>\n",
       "    <tr>\n",
       "      <th>1706</th>\n",
       "      <td>2007</td>\n",
       "      <td>France</td>\n",
       "      <td>Nombre</td>\n",
       "      <td>Total</td>\n",
       "      <td>3589293</td>\n",
       "    </tr>\n",
       "    <tr>\n",
       "      <th>1711</th>\n",
       "      <td>2007</td>\n",
       "      <td>France (métropolitaine)</td>\n",
       "      <td>Nombre</td>\n",
       "      <td>Total</td>\n",
       "      <td>3589293</td>\n",
       "    </tr>\n",
       "    <tr>\n",
       "      <th>1716</th>\n",
       "      <td>2007</td>\n",
       "      <td>Croatie</td>\n",
       "      <td>Nombre</td>\n",
       "      <td>Total</td>\n",
       "      <td>75857</td>\n",
       "    </tr>\n",
       "    <tr>\n",
       "      <th>1721</th>\n",
       "      <td>2007</td>\n",
       "      <td>Italie</td>\n",
       "      <td>Nombre</td>\n",
       "      <td>Total</td>\n",
       "      <td>2933146</td>\n",
       "    </tr>\n",
       "    <tr>\n",
       "      <th>1726</th>\n",
       "      <td>2007</td>\n",
       "      <td>Chypre</td>\n",
       "      <td>Nombre</td>\n",
       "      <td>Total</td>\n",
       "      <td>7556</td>\n",
       "    </tr>\n",
       "    <tr>\n",
       "      <th>1731</th>\n",
       "      <td>2007</td>\n",
       "      <td>Lettonie</td>\n",
       "      <td>Nombre</td>\n",
       "      <td>Total</td>\n",
       "      <td>55620</td>\n",
       "    </tr>\n",
       "    <tr>\n",
       "      <th>1736</th>\n",
       "      <td>2007</td>\n",
       "      <td>Lituanie</td>\n",
       "      <td>Nombre</td>\n",
       "      <td>Total</td>\n",
       "      <td>67990</td>\n",
       "    </tr>\n",
       "    <tr>\n",
       "      <th>1741</th>\n",
       "      <td>2007</td>\n",
       "      <td>Luxembourg</td>\n",
       "      <td>Nombre</td>\n",
       "      <td>Total</td>\n",
       "      <td>28252</td>\n",
       "    </tr>\n",
       "    <tr>\n",
       "      <th>1746</th>\n",
       "      <td>2007</td>\n",
       "      <td>Hongrie</td>\n",
       "      <td>Nombre</td>\n",
       "      <td>Total</td>\n",
       "      <td>426914</td>\n",
       "    </tr>\n",
       "    <tr>\n",
       "      <th>1751</th>\n",
       "      <td>2007</td>\n",
       "      <td>Malte</td>\n",
       "      <td>Nombre</td>\n",
       "      <td>Total</td>\n",
       "      <td>15005</td>\n",
       "    </tr>\n",
       "    <tr>\n",
       "      <th>1756</th>\n",
       "      <td>2007</td>\n",
       "      <td>Pays-Bas</td>\n",
       "      <td>Nombre</td>\n",
       "      <td>Total</td>\n",
       "      <td>1303835</td>\n",
       "    </tr>\n",
       "    <tr>\n",
       "      <th>1761</th>\n",
       "      <td>2007</td>\n",
       "      <td>Autriche</td>\n",
       "      <td>Nombre</td>\n",
       "      <td>Total</td>\n",
       "      <td>594240</td>\n",
       "    </tr>\n",
       "    <tr>\n",
       "      <th>1766</th>\n",
       "      <td>2007</td>\n",
       "      <td>Pologne</td>\n",
       "      <td>Nombre</td>\n",
       "      <td>Total</td>\n",
       "      <td>1152993</td>\n",
       "    </tr>\n",
       "    <tr>\n",
       "      <th>1771</th>\n",
       "      <td>2007</td>\n",
       "      <td>Portugal</td>\n",
       "      <td>Nombre</td>\n",
       "      <td>Total</td>\n",
       "      <td>398575</td>\n",
       "    </tr>\n",
       "    <tr>\n",
       "      <th>1776</th>\n",
       "      <td>2007</td>\n",
       "      <td>Roumanie</td>\n",
       "      <td>Nombre</td>\n",
       "      <td>Total</td>\n",
       "      <td>281457</td>\n",
       "    </tr>\n",
       "    <tr>\n",
       "      <th>1781</th>\n",
       "      <td>2007</td>\n",
       "      <td>Slovénie</td>\n",
       "      <td>Nombre</td>\n",
       "      <td>Total</td>\n",
       "      <td>88197</td>\n",
       "    </tr>\n",
       "    <tr>\n",
       "      <th>1786</th>\n",
       "      <td>2007</td>\n",
       "      <td>Slovaquie</td>\n",
       "      <td>Nombre</td>\n",
       "      <td>Total</td>\n",
       "      <td>110802</td>\n",
       "    </tr>\n",
       "    <tr>\n",
       "      <th>1791</th>\n",
       "      <td>2007</td>\n",
       "      <td>Finlande</td>\n",
       "      <td>Nombre</td>\n",
       "      <td>Total</td>\n",
       "      <td>435824</td>\n",
       "    </tr>\n",
       "    <tr>\n",
       "      <th>1796</th>\n",
       "      <td>2007</td>\n",
       "      <td>Suède</td>\n",
       "      <td>Nombre</td>\n",
       "      <td>Total</td>\n",
       "      <td>1306324</td>\n",
       "    </tr>\n",
       "    <tr>\n",
       "      <th>1801</th>\n",
       "      <td>2007</td>\n",
       "      <td>England et Wales</td>\n",
       "      <td>Nombre</td>\n",
       "      <td>Total</td>\n",
       "      <td>4952277</td>\n",
       "    </tr>\n",
       "    <tr>\n",
       "      <th>1806</th>\n",
       "      <td>2007</td>\n",
       "      <td>Scotland</td>\n",
       "      <td>Nombre</td>\n",
       "      <td>Total</td>\n",
       "      <td>385509</td>\n",
       "    </tr>\n",
       "    <tr>\n",
       "      <th>1811</th>\n",
       "      <td>2007</td>\n",
       "      <td>Northern Ireland (UK)</td>\n",
       "      <td>Nombre</td>\n",
       "      <td>Total</td>\n",
       "      <td>108468</td>\n",
       "    </tr>\n",
       "    <tr>\n",
       "      <th>1816</th>\n",
       "      <td>2007</td>\n",
       "      <td>Islande</td>\n",
       "      <td>Nombre</td>\n",
       "      <td>Total</td>\n",
       "      <td>13038</td>\n",
       "    </tr>\n",
       "    <tr>\n",
       "      <th>1820</th>\n",
       "      <td>2007</td>\n",
       "      <td>Liechtenstein</td>\n",
       "      <td>Nombre</td>\n",
       "      <td>Total</td>\n",
       "      <td>1075</td>\n",
       "    </tr>\n",
       "    <tr>\n",
       "      <th>1825</th>\n",
       "      <td>2007</td>\n",
       "      <td>Norvège</td>\n",
       "      <td>Nombre</td>\n",
       "      <td>Total</td>\n",
       "      <td>271712</td>\n",
       "    </tr>\n",
       "    <tr>\n",
       "      <th>1830</th>\n",
       "      <td>2007</td>\n",
       "      <td>Suisse</td>\n",
       "      <td>Nombre</td>\n",
       "      <td>Total</td>\n",
       "      <td>326232</td>\n",
       "    </tr>\n",
       "    <tr>\n",
       "      <th>1835</th>\n",
       "      <td>2007</td>\n",
       "      <td>Monténégro</td>\n",
       "      <td>Nombre</td>\n",
       "      <td>Total</td>\n",
       "      <td>9258</td>\n",
       "    </tr>\n",
       "    <tr>\n",
       "      <th>1839</th>\n",
       "      <td>2007</td>\n",
       "      <td>Ancienne République yougoslave de Macédoine</td>\n",
       "      <td>Nombre</td>\n",
       "      <td>Total</td>\n",
       "      <td>26224</td>\n",
       "    </tr>\n",
       "    <tr>\n",
       "      <th>1844</th>\n",
       "      <td>2007</td>\n",
       "      <td>Serbie</td>\n",
       "      <td>Nombre</td>\n",
       "      <td>Total</td>\n",
       "      <td>104862</td>\n",
       "    </tr>\n",
       "    <tr>\n",
       "      <th>1849</th>\n",
       "      <td>2007</td>\n",
       "      <td>Turquie</td>\n",
       "      <td>Nombre</td>\n",
       "      <td>Total</td>\n",
       "      <td>970554</td>\n",
       "    </tr>\n",
       "  </tbody>\n",
       "</table>\n",
       "</div>"
      ],
      "text/plain": [
       "      TIME                                                GEO    UNIT   ICCS  \\\n",
       "1662  2007                                           Belgique  Nombre  Total   \n",
       "1667  2007                                           Bulgarie  Nombre  Total   \n",
       "1672  2007                                           Tchéquie  Nombre  Total   \n",
       "1677  2007                                           Danemark  Nombre  Total   \n",
       "1682  2007  Allemagne (jusqu'en 1990, ancien territoire de...  Nombre  Total   \n",
       "1687  2007                                            Estonie  Nombre  Total   \n",
       "1696  2007                                              Grèce  Nombre  Total   \n",
       "1701  2007                                            Espagne  Nombre  Total   \n",
       "1706  2007                                             France  Nombre  Total   \n",
       "1711  2007                            France (métropolitaine)  Nombre  Total   \n",
       "1716  2007                                            Croatie  Nombre  Total   \n",
       "1721  2007                                             Italie  Nombre  Total   \n",
       "1726  2007                                             Chypre  Nombre  Total   \n",
       "1731  2007                                           Lettonie  Nombre  Total   \n",
       "1736  2007                                           Lituanie  Nombre  Total   \n",
       "1741  2007                                         Luxembourg  Nombre  Total   \n",
       "1746  2007                                            Hongrie  Nombre  Total   \n",
       "1751  2007                                              Malte  Nombre  Total   \n",
       "1756  2007                                           Pays-Bas  Nombre  Total   \n",
       "1761  2007                                           Autriche  Nombre  Total   \n",
       "1766  2007                                            Pologne  Nombre  Total   \n",
       "1771  2007                                           Portugal  Nombre  Total   \n",
       "1776  2007                                           Roumanie  Nombre  Total   \n",
       "1781  2007                                           Slovénie  Nombre  Total   \n",
       "1786  2007                                          Slovaquie  Nombre  Total   \n",
       "1791  2007                                           Finlande  Nombre  Total   \n",
       "1796  2007                                              Suède  Nombre  Total   \n",
       "1801  2007                                   England et Wales  Nombre  Total   \n",
       "1806  2007                                           Scotland  Nombre  Total   \n",
       "1811  2007                              Northern Ireland (UK)  Nombre  Total   \n",
       "1816  2007                                            Islande  Nombre  Total   \n",
       "1820  2007                                      Liechtenstein  Nombre  Total   \n",
       "1825  2007                                            Norvège  Nombre  Total   \n",
       "1830  2007                                             Suisse  Nombre  Total   \n",
       "1835  2007                                         Monténégro  Nombre  Total   \n",
       "1839  2007        Ancienne République yougoslave de Macédoine  Nombre  Total   \n",
       "1844  2007                                             Serbie  Nombre  Total   \n",
       "1849  2007                                            Turquie  Nombre  Total   \n",
       "\n",
       "        Value  \n",
       "1662  1034430  \n",
       "1667   134685  \n",
       "1672   357391  \n",
       "1677   445271  \n",
       "1682  6284661  \n",
       "1687    50375  \n",
       "1696   423422  \n",
       "1701  2309859  \n",
       "1706  3589293  \n",
       "1711  3589293  \n",
       "1716    75857  \n",
       "1721  2933146  \n",
       "1726     7556  \n",
       "1731    55620  \n",
       "1736    67990  \n",
       "1741    28252  \n",
       "1746   426914  \n",
       "1751    15005  \n",
       "1756  1303835  \n",
       "1761   594240  \n",
       "1766  1152993  \n",
       "1771   398575  \n",
       "1776   281457  \n",
       "1781    88197  \n",
       "1786   110802  \n",
       "1791   435824  \n",
       "1796  1306324  \n",
       "1801  4952277  \n",
       "1806   385509  \n",
       "1811   108468  \n",
       "1816    13038  \n",
       "1820     1075  \n",
       "1825   271712  \n",
       "1830   326232  \n",
       "1835     9258  \n",
       "1839    26224  \n",
       "1844   104862  \n",
       "1849   970554  "
      ]
     },
     "execution_count": 31,
     "metadata": {},
     "output_type": "execute_result"
    }
   ],
   "source": [
    "crimes_robtot=crimes[(crimes['ICCS']=='Total')&(crimes['TIME']==2007)]\n",
    "crimes_robtot"
   ]
  },
  {
   "cell_type": "code",
   "execution_count": 32,
   "metadata": {},
   "outputs": [],
   "source": [
    "for j in range(19):\n",
    "    countrie = countries[j]\n",
    "    crimesseven=0\n",
    "    if countries[j] ==\"Allemagne incluant l'ancienne RDA\":\n",
    "        countrie = \"Allemagne (jusqu'en 1990, ancien territoire de la RFA)\"\n",
    "    elif countries[j] =='Gr�ce':\n",
    "        countrie = 'Grèce'\n",
    "    elif countries[j] =='Slov�nie':\n",
    "        countrie='Slovénie'\n",
    "    elif countries[j]== 'Irlande':\n",
    "        countrie='Northern Ireland (UK)'\n",
    "    #print(crimes_robtot['Value'][(crimes_robtot['GEO']==countrie)].values[0])\n",
    "    crimesseven=crimes_robtot['Value'][(crimes_robtot['GEO']==countrie)].values[0]\n",
    "    europexpect[j]['2007crimes']=crimesseven\n",
    "\n"
   ]
  },
  {
   "cell_type": "code",
   "execution_count": 33,
   "metadata": {},
   "outputs": [
    {
     "data": {
      "text/plain": [
       "{0: {'name': \"Allemagne incluant l'ancienne RDA\",\n",
       "  '2050': 82002231,\n",
       "  '2040': 81835196,\n",
       "  '2007': 81283980,\n",
       "  '2007crimes': 6284661},\n",
       " 1: {'name': 'Autriche',\n",
       "  '2050': 10377350,\n",
       "  '2040': 9871279,\n",
       "  '2007': 8201243,\n",
       "  '2007crimes': 594240},\n",
       " 2: {'name': 'Belgique',\n",
       "  '2050': 13932700,\n",
       "  '2040': 13165454,\n",
       "  '2007': 10633546,\n",
       "  '2007crimes': 1034430},\n",
       " 3: {'name': 'Espagne',\n",
       "  '2050': 48362214,\n",
       "  '2040': 47853303,\n",
       "  '2007': 46173899,\n",
       "  '2007crimes': 2309859},\n",
       " 4: {'name': 'Finlande',\n",
       "  '2050': 6274801,\n",
       "  '2040': 6044055,\n",
       "  '2007': 5282597,\n",
       "  '2007crimes': 435824},\n",
       " 5: {'name': 'France',\n",
       "  '2050': 78158068,\n",
       "  '2040': 74782327,\n",
       "  '2007': 63642383,\n",
       "  '2007crimes': 3589293},\n",
       " 6: {'name': 'Irlande',\n",
       "  '2050': 5802622,\n",
       "  '2040': 5485245,\n",
       "  '2007': 4437904,\n",
       "  '2007crimes': 108468},\n",
       " 7: {'name': 'Italie',\n",
       "  '2050': 69279414,\n",
       "  '2040': 66754797,\n",
       "  '2007': 58423560,\n",
       "  '2007crimes': 2933146},\n",
       " 8: {'name': 'Luxembourg',\n",
       "  '2050': 981269,\n",
       "  '2040': 861801,\n",
       "  '2007': 467557,\n",
       "  '2007crimes': 28252},\n",
       " 9: {'name': 'Pays-Bas',\n",
       "  '2050': 19409682,\n",
       "  '2040': 18698368,\n",
       "  '2007': 16351031,\n",
       "  '2007crimes': 1303835},\n",
       " 10: {'name': 'Portugal',\n",
       "  '2050': 9285813,\n",
       "  '2040': 9602803,\n",
       "  '2007': 10648871,\n",
       "  '2007crimes': 398575},\n",
       " 11: {'name': 'Gr�ce',\n",
       "  '2050': 9439202,\n",
       "  '2040': 9850752,\n",
       "  '2007': 11208867,\n",
       "  '2007crimes': 423422},\n",
       " 12: {'name': 'Slov�nie',\n",
       "  '2050': 2241478,\n",
       "  '2040': 2190635,\n",
       "  '2007': 2022851,\n",
       "  '2007crimes': 88197},\n",
       " 13: {'name': 'Chypre',\n",
       "  '2050': 1124066,\n",
       "  '2040': 1047466,\n",
       "  '2007': 794687,\n",
       "  '2007crimes': 7556},\n",
       " 14: {'name': 'Malte',\n",
       "  '2050': 637037,\n",
       "  '2040': 580964,\n",
       "  '2007': 395925,\n",
       "  '2007crimes': 15005},\n",
       " 15: {'name': 'Slovaquie',\n",
       "  '2050': 5649215,\n",
       "  '2040': 5584234,\n",
       "  '2007': 5369797,\n",
       "  '2007crimes': 110802},\n",
       " 16: {'name': 'Estonie',\n",
       "  '2050': 1214823,\n",
       "  '2040': 1244065,\n",
       "  '2007': 1340561,\n",
       "  '2007crimes': 50375},\n",
       " 17: {'name': 'Lettonie',\n",
       "  '2050': 1042315,\n",
       "  '2040': 1311698,\n",
       "  '2007': 2200663,\n",
       "  '2007crimes': 55620},\n",
       " 18: {'name': 'Lituanie',\n",
       "  '2050': 1468583,\n",
       "  '2040': 1881435,\n",
       "  '2007': 3243845,\n",
       "  '2007crimes': 67990}}"
      ]
     },
     "execution_count": 33,
     "metadata": {},
     "output_type": "execute_result"
    }
   ],
   "source": [
    "europexpect"
   ]
  },
  {
   "cell_type": "code",
   "execution_count": 34,
   "metadata": {},
   "outputs": [],
   "source": [
    "#crimes_robtot[['GEO','Value']][(crimes_robtot['GEO']=='France')]"
   ]
  },
  {
   "cell_type": "markdown",
   "metadata": {},
   "source": [
    "#### crimes par pop"
   ]
  },
  {
   "cell_type": "code",
   "execution_count": 35,
   "metadata": {},
   "outputs": [
    {
     "data": {
      "text/plain": [
       "7.731733854567653"
      ]
     },
     "execution_count": 35,
     "metadata": {},
     "output_type": "execute_result"
    }
   ],
   "source": [
    "(europexpect[0]['2007crimes']/ europexpect[0]['2007'])*100"
   ]
  },
  {
   "cell_type": "code",
   "execution_count": 36,
   "metadata": {},
   "outputs": [
    {
     "data": {
      "text/plain": [
       "[7.7,\n",
       " 7.2,\n",
       " 9.7,\n",
       " 5.0,\n",
       " 8.3,\n",
       " 5.6,\n",
       " 2.4,\n",
       " 5.0,\n",
       " 6.0,\n",
       " 8.0,\n",
       " 3.7,\n",
       " 3.8,\n",
       " 4.4,\n",
       " 1.0,\n",
       " 3.8,\n",
       " 2.1,\n",
       " 3.8,\n",
       " 2.5,\n",
       " 2.1]"
      ]
     },
     "execution_count": 36,
     "metadata": {},
     "output_type": "execute_result"
    }
   ],
   "source": [
    "crimespop =[]\n",
    "for i in range(19):\n",
    "    #print(i)\n",
    "    crimepop=0\n",
    "    crimepop=europexpect[i]['2007crimes'] / europexpect[i]['2007']\n",
    "    crimepop = round(crimepop*100,1)\n",
    "    crimespop.append(crimepop)\n",
    "crimespop"
   ]
  },
  {
   "cell_type": "markdown",
   "metadata": {},
   "source": [
    "### Pays où on risque le plus de problème"
   ]
  },
  {
   "cell_type": "code",
   "execution_count": 37,
   "metadata": {},
   "outputs": [
    {
     "data": {
      "text/plain": [
       "9.7"
      ]
     },
     "execution_count": 37,
     "metadata": {},
     "output_type": "execute_result"
    }
   ],
   "source": [
    "max(crimespop)"
   ]
  },
  {
   "cell_type": "code",
   "execution_count": 38,
   "metadata": {},
   "outputs": [
    {
     "data": {
      "text/plain": [
       "2"
      ]
     },
     "execution_count": 38,
     "metadata": {},
     "output_type": "execute_result"
    }
   ],
   "source": [
    "crimespop.index(9.7)"
   ]
  },
  {
   "cell_type": "code",
   "execution_count": 39,
   "metadata": {},
   "outputs": [
    {
     "name": "stdout",
     "output_type": "stream",
     "text": [
      "Le pays où on a le plus de risque en 2007 est : Belgique  avec  9.7 % de probabilité d'être victime de crimes.\n"
     ]
    }
   ],
   "source": [
    "print('Le pays où on a le plus de risque en 2007 est :',europexpect[2]['name'], ' avec ',max(crimespop),\"% de probabilité d'être victime de crimes.\")"
   ]
  },
  {
   "cell_type": "markdown",
   "metadata": {},
   "source": [
    "### Pays où on risque le moins de problème"
   ]
  },
  {
   "cell_type": "code",
   "execution_count": 40,
   "metadata": {},
   "outputs": [
    {
     "data": {
      "text/plain": [
       "1.0"
      ]
     },
     "execution_count": 40,
     "metadata": {},
     "output_type": "execute_result"
    }
   ],
   "source": [
    "min(crimespop)"
   ]
  },
  {
   "cell_type": "code",
   "execution_count": 41,
   "metadata": {},
   "outputs": [
    {
     "data": {
      "text/plain": [
       "13"
      ]
     },
     "execution_count": 41,
     "metadata": {},
     "output_type": "execute_result"
    }
   ],
   "source": [
    "crimespop.index(1.0)"
   ]
  },
  {
   "cell_type": "code",
   "execution_count": 42,
   "metadata": {},
   "outputs": [
    {
     "name": "stdout",
     "output_type": "stream",
     "text": [
      "Le pays où on a le moins de risque en 2007 est : Chypre  avec  1.0 % de probabilité d'être victime de crimes.\n"
     ]
    }
   ],
   "source": [
    "print('Le pays où on a le moins de risque en 2007 est :',europexpect[13]['name'], ' avec ',min(crimespop),\"% de probabilité d'être victime de crimes.\")"
   ]
  },
  {
   "cell_type": "markdown",
   "metadata": {},
   "source": [
    "# /////////////// END ///////////////"
   ]
  },
  {
   "cell_type": "markdown",
   "metadata": {},
   "source": [
    "## Resume"
   ]
  },
  {
   "cell_type": "markdown",
   "metadata": {},
   "source": [
    "## Donnez les pays européens ayant le plus et le moins de cambriolage en 2007"
   ]
  },
  {
   "cell_type": "code",
   "execution_count": 52,
   "metadata": {},
   "outputs": [
    {
     "data": {
      "text/html": [
       "<div>\n",
       "<style scoped>\n",
       "    .dataframe tbody tr th:only-of-type {\n",
       "        vertical-align: middle;\n",
       "    }\n",
       "\n",
       "    .dataframe tbody tr th {\n",
       "        vertical-align: top;\n",
       "    }\n",
       "\n",
       "    .dataframe thead th {\n",
       "        text-align: right;\n",
       "    }\n",
       "</style>\n",
       "<table border=\"1\" class=\"dataframe\">\n",
       "  <thead>\n",
       "    <tr style=\"text-align: right;\">\n",
       "      <th></th>\n",
       "      <th>TIME</th>\n",
       "      <th>GEO</th>\n",
       "      <th>UNIT</th>\n",
       "      <th>ICCS</th>\n",
       "      <th>Value</th>\n",
       "    </tr>\n",
       "  </thead>\n",
       "  <tbody>\n",
       "    <tr>\n",
       "      <th>1725</th>\n",
       "      <td>2007</td>\n",
       "      <td>Italie</td>\n",
       "      <td>Nombre</td>\n",
       "      <td>Cambriolage de locaux résidentiels privés</td>\n",
       "      <td>169367</td>\n",
       "    </tr>\n",
       "  </tbody>\n",
       "</table>\n",
       "</div>"
      ],
      "text/plain": [
       "      TIME     GEO    UNIT                                       ICCS   Value\n",
       "1725  2007  Italie  Nombre  Cambriolage de locaux résidentiels privés  169367"
      ]
     },
     "execution_count": 52,
     "metadata": {},
     "output_type": "execute_result"
    }
   ],
   "source": [
    "countries = [\"Allemagne (jusqu'en 1990, ancien territoire de la RFA)\", 'Autriche', 'Belgique', 'Espagne', 'Finlande', 'France',\n",
    "              'Irlande', 'Italie', 'Luxembourg', 'Pays-Bas', 'Portugal', 'Grèce',\n",
    "              'Slovénie', 'Chypre', 'Malte', 'Slovaquie', 'Estonie', 'Lettonie', 'Lituanie']\n",
    "crimes_rob_filt=crimes_rob[crimes_rob['GEO'].isin(countries)]\n",
    "#crimes_rob_filt\n",
    "max_rob=crimes_rob_filt[['Value']].max()\n",
    "#max_rob.Value\n",
    "crimes_rob_filt_max= crimes_rob[crimes_rob['Value'].isin([max_rob.Value])]\n",
    "crimes_rob_filt_max"
   ]
  },
  {
   "cell_type": "code",
   "execution_count": 135,
   "metadata": {},
   "outputs": [
    {
     "data": {
      "text/plain": [
       "'En 2007 le pays de la zone euro des 19 ayant le plus de cambriolage est : Italie à hauteur de : 169367 cambriolages.'"
      ]
     },
     "execution_count": 135,
     "metadata": {},
     "output_type": "execute_result"
    }
   ],
   "source": [
    "ma_rob=\"En \"+str(crimes_rob_filt_max['TIME'].values[0])+\" le pays de la zone euro des 19 ayant le plus de cambriolage est : \"+str(crimes_rob_filt_max['GEO'].values[0])+\" à hauteur de : \"+str(crimes_rob_filt_max['Value'].values[0])+ \" cambriolages.\"\n",
    "ma_rob"
   ]
  },
  {
   "cell_type": "code",
   "execution_count": 62,
   "metadata": {},
   "outputs": [
    {
     "data": {
      "text/html": [
       "<div>\n",
       "<style scoped>\n",
       "    .dataframe tbody tr th:only-of-type {\n",
       "        vertical-align: middle;\n",
       "    }\n",
       "\n",
       "    .dataframe tbody tr th {\n",
       "        vertical-align: top;\n",
       "    }\n",
       "\n",
       "    .dataframe thead th {\n",
       "        text-align: right;\n",
       "    }\n",
       "</style>\n",
       "<table border=\"1\" class=\"dataframe\">\n",
       "  <thead>\n",
       "    <tr style=\"text-align: right;\">\n",
       "      <th></th>\n",
       "      <th>TIME</th>\n",
       "      <th>GEO</th>\n",
       "      <th>UNIT</th>\n",
       "      <th>ICCS</th>\n",
       "      <th>Value</th>\n",
       "    </tr>\n",
       "  </thead>\n",
       "  <tbody>\n",
       "    <tr>\n",
       "      <th>1755</th>\n",
       "      <td>2007</td>\n",
       "      <td>Malte</td>\n",
       "      <td>Nombre</td>\n",
       "      <td>Cambriolage de locaux résidentiels privés</td>\n",
       "      <td>735</td>\n",
       "    </tr>\n",
       "  </tbody>\n",
       "</table>\n",
       "</div>"
      ],
      "text/plain": [
       "      TIME    GEO    UNIT                                       ICCS  Value\n",
       "1755  2007  Malte  Nombre  Cambriolage de locaux résidentiels privés    735"
      ]
     },
     "execution_count": 62,
     "metadata": {},
     "output_type": "execute_result"
    }
   ],
   "source": [
    "min_rob=crimes_rob_filt[['Value']].min()\n",
    "crimes_rob_filt_min= crimes_rob[crimes_rob['Value'].isin([min_rob.Value])]\n",
    "crimes_rob_filt_min"
   ]
  },
  {
   "cell_type": "code",
   "execution_count": 137,
   "metadata": {},
   "outputs": [
    {
     "data": {
      "text/plain": [
       "'En 2007 le pays de la zone euro des 19 ayant le moins de cambriolage est : Malte à hauteur de : 735 cambriolages.'"
      ]
     },
     "execution_count": 137,
     "metadata": {},
     "output_type": "execute_result"
    }
   ],
   "source": [
    "mi_rob=\"En \"+str(crimes_rob_filt_min['TIME'].values[0])+\" le pays de la zone euro des 19 ayant le moins de cambriolage est : \"+str(crimes_rob_filt_min['GEO'].values[0])+\" à hauteur de : \"+str(crimes_rob_filt_min['Value'].values[0])+ \" cambriolages.\"\n",
    "mi_rob"
   ]
  },
  {
   "cell_type": "markdown",
   "metadata": {},
   "source": [
    "## Donnez le pays européen et l’année avec le moins de meurtres."
   ]
  },
  {
   "cell_type": "code",
   "execution_count": 65,
   "metadata": {},
   "outputs": [
    {
     "data": {
      "text/html": [
       "<div>\n",
       "<style scoped>\n",
       "    .dataframe tbody tr th:only-of-type {\n",
       "        vertical-align: middle;\n",
       "    }\n",
       "\n",
       "    .dataframe tbody tr th {\n",
       "        vertical-align: top;\n",
       "    }\n",
       "\n",
       "    .dataframe thead th {\n",
       "        text-align: right;\n",
       "    }\n",
       "</style>\n",
       "<table border=\"1\" class=\"dataframe\">\n",
       "  <thead>\n",
       "    <tr style=\"text-align: right;\">\n",
       "      <th></th>\n",
       "      <th>TIME</th>\n",
       "      <th>GEO</th>\n",
       "      <th>Value</th>\n",
       "    </tr>\n",
       "  </thead>\n",
       "  <tbody>\n",
       "    <tr>\n",
       "      <th>982</th>\n",
       "      <td>2003</td>\n",
       "      <td>Malte</td>\n",
       "      <td>0</td>\n",
       "    </tr>\n",
       "    <tr>\n",
       "      <th>1560</th>\n",
       "      <td>2006</td>\n",
       "      <td>Malte</td>\n",
       "      <td>0</td>\n",
       "    </tr>\n",
       "  </tbody>\n",
       "</table>\n",
       "</div>"
      ],
      "text/plain": [
       "      TIME    GEO  Value\n",
       "982   2003  Malte      0\n",
       "1560  2006  Malte      0"
      ]
     },
     "execution_count": 65,
     "metadata": {},
     "output_type": "execute_result"
    }
   ],
   "source": [
    "hom_min_eu[['TIME','GEO','Value']]"
   ]
  },
  {
   "cell_type": "code",
   "execution_count": 68,
   "metadata": {},
   "outputs": [
    {
     "data": {
      "text/plain": [
       "2006"
      ]
     },
     "execution_count": 68,
     "metadata": {},
     "output_type": "execute_result"
    }
   ],
   "source": [
    "hom_min_eu['TIME'].values[1]"
   ]
  },
  {
   "cell_type": "code",
   "execution_count": 142,
   "metadata": {},
   "outputs": [
    {
     "data": {
      "text/plain": [
       "'En 2003 et en 2006 le pays de la zone euro des 19 ayant le moins de meurtre est : Malte à hauteur de : 0 meurtre.'"
      ]
     },
     "execution_count": 142,
     "metadata": {},
     "output_type": "execute_result"
    }
   ],
   "source": [
    "min_homi=\"En \"+str(hom_min_eu['TIME'].values[0])+ \" et en \"+str(hom_min_eu['TIME'].values[1])+\" le pays de la zone euro des 19 ayant le moins de meurtre est : \"+str(hom_min_eu['GEO'].values[0])+\" à hauteur de : \"+str(hom_min_eu['Value'].values[0])+ \" meurtre.\"\n",
    "min_homi"
   ]
  },
  {
   "cell_type": "markdown",
   "metadata": {},
   "source": [
    "## Donnez le pays européen avec le moins de meurtres cumulés (année)."
   ]
  },
  {
   "cell_type": "code",
   "execution_count": 119,
   "metadata": {},
   "outputs": [
    {
     "data": {
      "text/plain": [
       "GEO\n",
       "Malte    44\n",
       "Name: Value, dtype: int64"
      ]
     },
     "execution_count": 119,
     "metadata": {},
     "output_type": "execute_result"
    }
   ],
   "source": [
    "countrie_minus_crimes_filt=crimes_hom[crimes_hom['GEO'].isin(countries)].groupby('GEO')['Value'].sum()\n",
    "countrie_minus_crimes_filt.min()\n",
    "#countrie_minus_crimes_filt['GEO']\n",
    "cmcf=countrie_minus_crimes_filt[countrie_minus_crimes_filt.isin([countrie_minus_crimes_filt.min()])]\n",
    "cmcf"
   ]
  },
  {
   "cell_type": "code",
   "execution_count": 123,
   "metadata": {},
   "outputs": [
    {
     "data": {
      "text/plain": [
       "array([44], dtype=int64)"
      ]
     },
     "execution_count": 123,
     "metadata": {},
     "output_type": "execute_result"
    }
   ],
   "source": [
    "cmcf.values"
   ]
  },
  {
   "cell_type": "code",
   "execution_count": 143,
   "metadata": {},
   "outputs": [
    {
     "data": {
      "text/plain": [
       "'De 1998 à 2007 le pays de la zone euro des 19 ayant le moins de meurtre est : Malte à hauteur de : 44 meurtres.'"
      ]
     },
     "execution_count": 143,
     "metadata": {},
     "output_type": "execute_result"
    }
   ],
   "source": [
    "min_homi_cum=\"De 1998 à 2007 le pays de la zone euro des 19 ayant le moins de meurtre est : Malte à hauteur de : \"+str(cmcf.values[0])+ \" meurtres.\"\n",
    "min_homi_cum"
   ]
  },
  {
   "cell_type": "markdown",
   "metadata": {},
   "source": [
    "## Dans quels pays risque-t-on le plus et le moins d’être blessé. (2 requêtes)"
   ]
  },
  {
   "cell_type": "markdown",
   "metadata": {},
   "source": [
    "### Pays où on risque le plus de problème"
   ]
  },
  {
   "cell_type": "code",
   "execution_count": 145,
   "metadata": {},
   "outputs": [
    {
     "data": {
      "text/plain": [
       "\"Le pays où on a le plus de risque en 2007 est :Belgique avec 9.7% de probabilité d'être victime de crimes.\""
      ]
     },
     "execution_count": 145,
     "metadata": {},
     "output_type": "execute_result"
    }
   ],
   "source": [
    "count_pls_risk='Le pays où on a le plus de risque en 2007 est :'+str(europexpect[2]['name'])+ ' avec '+str(max(crimespop))+\"% de probabilité d'être victime de crimes.\"\n",
    "count_pls_risk"
   ]
  },
  {
   "cell_type": "markdown",
   "metadata": {},
   "source": [
    "### Pays où on risque le moins de problème"
   ]
  },
  {
   "cell_type": "code",
   "execution_count": 146,
   "metadata": {},
   "outputs": [
    {
     "data": {
      "text/plain": [
       "\"Le pays où on a le moins de risque en 2007 est :Chypre avec 1.0% de probabilité d'être victime de crimes.\""
      ]
     },
     "execution_count": 146,
     "metadata": {},
     "output_type": "execute_result"
    }
   ],
   "source": [
    "count_mns_risk='Le pays où on a le moins de risque en 2007 est :'+str(europexpect[13]['name'])+ ' avec '+str(min(crimespop))+\"% de probabilité d'être victime de crimes.\"\n",
    "count_mns_risk"
   ]
  },
  {
   "cell_type": "markdown",
   "metadata": {},
   "source": [
    "## Save data in text"
   ]
  },
  {
   "cell_type": "code",
   "execution_count": 1,
   "metadata": {},
   "outputs": [
    {
     "ename": "NameError",
     "evalue": "name 'ma_rob' is not defined",
     "output_type": "error",
     "traceback": [
      "\u001b[1;31m---------------------------------------------------------------------------\u001b[0m",
      "\u001b[1;31mNameError\u001b[0m                                 Traceback (most recent call last)",
      "\u001b[1;32m~\\AppData\\Local\\Temp\\ipykernel_14148\\2868960452.py\u001b[0m in \u001b[0;36m<module>\u001b[1;34m\u001b[0m\n\u001b[0;32m      1\u001b[0m \u001b[1;32mwith\u001b[0m \u001b[0mopen\u001b[0m\u001b[1;33m(\u001b[0m\u001b[1;34m'eu19_crimes.txt'\u001b[0m\u001b[1;33m,\u001b[0m \u001b[1;34m'w'\u001b[0m\u001b[1;33m)\u001b[0m \u001b[1;32mas\u001b[0m \u001b[0mtxt\u001b[0m\u001b[1;33m:\u001b[0m\u001b[1;33m\u001b[0m\u001b[1;33m\u001b[0m\u001b[0m\n\u001b[1;32m----> 2\u001b[1;33m     \u001b[0mtxt\u001b[0m\u001b[1;33m.\u001b[0m\u001b[0mwrite\u001b[0m\u001b[1;33m(\u001b[0m\u001b[0mma_rob\u001b[0m\u001b[1;33m+\u001b[0m\u001b[1;34m\"\\n\"\u001b[0m\u001b[1;33m+\u001b[0m\u001b[0mmi_rob\u001b[0m\u001b[1;33m+\u001b[0m\u001b[1;34m\"\\n\"\u001b[0m\u001b[1;33m+\u001b[0m\u001b[0mmin_homi\u001b[0m\u001b[1;33m+\u001b[0m\u001b[1;34m\"\\n\"\u001b[0m\u001b[1;33m+\u001b[0m\u001b[0mmin_homi_cum\u001b[0m\u001b[1;33m+\u001b[0m\u001b[1;34m\"\\n\"\u001b[0m\u001b[1;33m+\u001b[0m\u001b[0mcount_pls_risk\u001b[0m\u001b[1;33m+\u001b[0m\u001b[1;34m\"\\n\"\u001b[0m\u001b[1;33m+\u001b[0m\u001b[0mcount_mns_risk\u001b[0m\u001b[1;33m)\u001b[0m\u001b[1;33m\u001b[0m\u001b[1;33m\u001b[0m\u001b[0m\n\u001b[0m",
      "\u001b[1;31mNameError\u001b[0m: name 'ma_rob' is not defined"
     ]
    }
   ],
   "source": [
    "with open('eu19_crimes.txt', 'w') as txt:\n",
    "    txt.write(ma_rob+\"\\n\"+mi_rob+\"\\n\"+min_homi+\"\\n\"+min_homi_cum+\"\\n\"+count_pls_risk+\"\\n\"+count_mns_risk)"
   ]
  },
  {
   "cell_type": "code",
   "execution_count": null,
   "metadata": {},
   "outputs": [],
   "source": []
  }
 ],
 "metadata": {
  "kernelspec": {
   "display_name": "Python 3 (ipykernel)",
   "language": "python",
   "name": "python3"
  },
  "language_info": {
   "codemirror_mode": {
    "name": "ipython",
    "version": 3
   },
   "file_extension": ".py",
   "mimetype": "text/x-python",
   "name": "python",
   "nbconvert_exporter": "python",
   "pygments_lexer": "ipython3",
   "version": "3.9.13"
  }
 },
 "nbformat": 4,
 "nbformat_minor": 1
}
